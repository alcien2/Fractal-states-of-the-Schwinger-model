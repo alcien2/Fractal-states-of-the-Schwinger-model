{
  "nbformat": 4,
  "nbformat_minor": 0,
  "metadata": {
    "colab": {
      "provenance": [],
      "collapsed_sections": [
        "LDDczdyxumAj",
        "Z2_flCphc7iS",
        "482HDLyEEQ5A",
        "9RE5DItEEVwW",
        "0Nr0_oXvdCMw",
        "W5Zgwzx-fjLd",
        "7H8YU3yrflVM",
        "Bc76_YNtrPJD",
        "yBO7-xCRjSW_",
        "z9bceLvwA5TI",
        "7NL9XABi8XHy",
        "WcLoFY_tAirh",
        "PmxMN7C3Au1d",
        "Ytm4UPsIvGfW",
        "fA-DhWSzUkUj",
        "V_gnQ_-YvL93",
        "KZKFR0_Zvld6",
        "WkcMJw_-Um3s",
        "8PdnU2ELy_PP",
        "FhER1NIAGHO-"
      ]
    },
    "kernelspec": {
      "name": "python3",
      "display_name": "Python 3"
    },
    "language_info": {
      "name": "python"
    }
  },
  "cells": [
    {
      "cell_type": "code",
      "execution_count": 1,
      "metadata": {
        "id": "KjJ_577fhBA7"
      },
      "outputs": [],
      "source": [
        "import numpy as np \n",
        "import matplotlib.pyplot as plt\n",
        "import torch\n",
        "import torch.nn as nn\n",
        "import torch.nn.functional as F\n",
        "from tqdm import tqdm\n",
        "from sympy.physics.quantum.dagger import Dagger\n",
        "import math\n",
        "import random\n",
        "import cmath\n",
        "from sympy import I, Matrix, symbols\n",
        "from sympy.physics.quantum import TensorProduct"
      ]
    },
    {
      "cell_type": "markdown",
      "source": [
        "#Functions"
      ],
      "metadata": {
        "id": "lCXwc6DJzXbR"
      }
    },
    {
      "cell_type": "code",
      "metadata": {
        "id": "Zv3vZqVP2N1a"
      },
      "source": [
        "def Good_vectors(nq):\n",
        "    sum_spin = math.ceil((nq) / 2 )\n",
        "    good_vectors = basis.sum(dim = 1)\n",
        "    good_vectors = (good_vectors == sum_spin).nonzero()[:,0]\n",
        "    sub_batch = torch.zeros(good_vectors.shape[0], nq)\n",
        "    i = torch.arange(0, good_vectors.shape[0], 1)\n",
        "    sub_batch[i, :] = basis[good_vectors, :]\n",
        "    good_batch = sub_batch\n",
        "    a = 2**torch.arange(nq -1, -1,-1)\n",
        "    num_batch = good_batch*a \n",
        "    num_batch = num_batch.sum(dim = 1)\n",
        "\n",
        "    return good_vectors, good_batch, num_batch"
      ],
      "execution_count": 2,
      "outputs": []
    },
    {
      "cell_type": "code",
      "metadata": {
        "id": "-3qpYhCn2agb"
      },
      "source": [
        "def int10tobase_torch(num,base=2):\n",
        "  c = num\n",
        "  max_digit = nq-1\n",
        "  res = torch.zeros((max_digit+1,num.shape[0]),dtype = torch.long)\n",
        "  i = max_digit\n",
        "  while(torch.sum(c)!=0):\n",
        "    res[i,:] = torch.remainder(c,base)\n",
        "    c = (c/base).type(torch.long)\n",
        "    i-=1\n",
        "  return res.t()"
      ],
      "execution_count": 3,
      "outputs": []
    },
    {
      "cell_type": "code",
      "metadata": {
        "id": "E4g7dBGCDJv9"
      },
      "source": [
        "def permutations():\n",
        "  main = torch.ones(nq)\n",
        "  i = torch.arange(1,nq,2)\n",
        "  main[i] = 0\n",
        "  a = 2**torch.arange(nq -1, -1,-1)\n",
        "  num_main = (main*a).sum()\n",
        "  pm = torch.clone(main.reshape(1,nq).expand(nq-1,nq))\n",
        "  for i in range(nq - 1):\n",
        "    pm[i,i] = 1 - main[i]\n",
        "    pm[i,i+1] = 1 - main[i+1]\n",
        "  i = torch.arange(nq-1)\n",
        "  res = torch.zeros(nq - 1, nq)\n",
        "  ress = torch.zeros(nq - 1)\n",
        "  res[i] = pm[i]*a \n",
        "  ress[i] = res[i].sum(dim = 1)\n",
        "  batch = torch.cat((main.view(1,nq),pm), 0)\n",
        "  ress = torch.cat((num_main.view(1),ress),0)\n",
        "  t = ress.sort()\n",
        "  i = torch.arange(nq)\n",
        "  batch2 = torch.zeros(batch.shape[0], batch.shape[1])\n",
        "  batch2[i,:] =  batch[t.indices[i],:]\n",
        "\n",
        "  main[0] = 1\n",
        "  main[nq-1] = 0\n",
        "  batch2 = torch.cat((batch2, main.view(1,main.shape[0])), 0)\n",
        "  last = (main*a).sum() \n",
        "  print(last)\n",
        "  t = torch.cat((t.values.long().view(-1), last.view(-1)), 0)\n",
        "  print(t) \n",
        "  return batch2, t"
      ],
      "execution_count": 4,
      "outputs": []
    },
    {
      "cell_type": "code",
      "metadata": {
        "id": "ovHyRhdE5npL",
        "colab": {
          "base_uri": "https://localhost:8080/"
        },
        "outputId": "a3a1fb8a-2aac-434f-8ae4-1eee8bf1f997"
      },
      "source": [
        "device = torch.device('cuda' if torch.cuda.is_available() else 'cpu')\n",
        "device"
      ],
      "execution_count": 5,
      "outputs": [
        {
          "output_type": "execute_result",
          "data": {
            "text/plain": [
              "device(type='cpu')"
            ]
          },
          "metadata": {},
          "execution_count": 5
        }
      ]
    },
    {
      "cell_type": "code",
      "metadata": {
        "id": "hlZSJgiXStsW"
      },
      "source": [
        "from scipy.sparse import csr_matrix\n",
        "from scipy.sparse.linalg import eigsh\n",
        "def sparce_m_OBC(batch, number_of_qubits, m):\n",
        "    batch_new = torch.clone(batch).to(device)\n",
        "    batch_size = batch.shape[0]\n",
        "    batch_new[batch_new == 0] = -1\n",
        "\n",
        "    row = torch.arange(0,batch.shape[0]).to(device)\n",
        "    col = torch.arange(0,batch.shape[0]).to(device)\n",
        "    data = torch.zeros(batch.shape[0]).to(device)\n",
        "    \n",
        "    t = torch.arange(0,number_of_qubits).to(device)\n",
        "    batch_new[:,t] *= (-1)**(t)\n",
        "    ##\n",
        "    batch_new[:,t]  -= 1\n",
        "    ##\n",
        "    data[row] = -batch_new[row].sum(1)\n",
        "    data *= m/2\n",
        "    return data\n",
        "\n",
        "\n",
        "def sparce_iter(batch, number_of_qubits):\n",
        "    batch_size = batch.shape[0]\n",
        "    batch_new = torch.clone(batch).to(device)\n",
        "    batch_new[batch_new == 0] = -1\n",
        "    row = torch.arange(0,batch.shape[0]).to(device)\n",
        "    col = torch.arange(0,batch.shape[0]).to(device)\n",
        "    \n",
        "    \n",
        "    data = torch.zeros(batch.shape[0]).to(device)\n",
        "    \n",
        "    coef_first = number_of_qubits - number_of_qubits % 2\n",
        "    coef = torch.zeros(number_of_qubits ).to(device)\n",
        "    for i in range(number_of_qubits -1):\n",
        "        coef[i] = -coef_first\n",
        "        if i%2 == 0 : \n",
        "            coef_first = coef_first-2       \n",
        "    \n",
        "    data[row] = (batch_new[row]*coef).sum(dim = 1)\n",
        "    \n",
        "    coef_2 = (torch.arange(number_of_qubits -2, 0, -1)*2)\n",
        "    \n",
        "    for i in range(0,number_of_qubits-1):\n",
        "        s = torch.zeros(batch.shape[0]).to(device)\n",
        "        for m in range(i+1, number_of_qubits-1):\n",
        "            s += coef_2[m - 1]*batch_new[:,m]  \n",
        "        data[row] += batch_new[row,i]*s[row]\n",
        "       \n",
        "    One = torch.eye(batch_size, batch_size).to(device)\n",
        "    I = torch.tensor([range(0,number_of_qubits)]).sum()\n",
        "    I += math.floor(number_of_qubits/2)\n",
        "    One *= I \n",
        "    data += I\n",
        "    return  data/4"
      ],
      "execution_count": 6,
      "outputs": []
    },
    {
      "cell_type": "code",
      "metadata": {
        "id": "YGfPi6w-S4nO"
      },
      "source": [
        "def sparce_diag(nq, m, x, device, level):\n",
        "    row = []\n",
        "    col = []\n",
        "    sum_spin = math.ceil((nq) / 2 - level)\n",
        "    for i in range(nq - 1):\n",
        "        ind = torch.tensor([i,i+1])\n",
        "        good_batch_2 = torch.clone(good_batch).to(device)\n",
        "        good_batch_2[:,ind] = 1 - good_batch_2[:,ind]\n",
        "        r = (good_batch_2.sum(1) == sum_spin).nonzero().reshape(-1).to(device)\n",
        "        a = 2**torch.arange(nq -1, -1,-1).to(device)\n",
        "        out = good_batch_2[r]*a \n",
        "        out = out.sum(dim = 1).to(device)\n",
        "        res = (out.unsqueeze(1) == num_batch).nonzero()\n",
        "        col.append(r.cpu().numpy())\n",
        "        row.append(res[:,1].cpu().numpy())\n",
        "    row_xy = torch.tensor(row).reshape(-1).to(device)\n",
        "    col_xy = torch.tensor(col).reshape(-1).to(device)\n",
        "    data_xy = torch.ones(col_xy.shape[0]).to(device)\n",
        "\n",
        "    row = torch.arange(0,good_batch.shape[0]).to(device)\n",
        "    col = torch.arange(0,good_batch.shape[0]).to(device)\n",
        "    good_batch.to(device)\n",
        "    data = sparce_m_OBC(good_batch,nq, m) + sparce_iter(good_batch,nq)\n",
        "    Row = torch.cat((row, row_xy), 0)\n",
        "    Col = torch.cat((col, col_xy), 0)\n",
        "    Data = torch.cat((data, data_xy*x), 0)\n",
        "    \n",
        "    eigenvalues, eigenvectors = eigsh(csr_matrix((Data.cpu(), (Row.cpu(), Col.cpu())), shape=(good_batch.shape[0], good_batch.shape[0])).astype(float), k=2, which = 'SA')\n",
        "    return eigenvalues, eigenvectors"
      ],
      "execution_count": 7,
      "outputs": []
    },
    {
      "cell_type": "code",
      "metadata": {
        "id": "zruuZOrzgVRU"
      },
      "source": [
        "def sparce_diag_matrix(nq, m, x, device, level):\n",
        "    row = []\n",
        "    col = []\n",
        "    sum_spin = math.ceil((nq) / 2 - level)\n",
        "    for i in range(nq - 1):\n",
        "        ind = torch.tensor([i,i+1])\n",
        "        good_batch_2 = torch.clone(good_batch).to(device)\n",
        "        good_batch_2[:,ind] = 1 - good_batch_2[:,ind]\n",
        "        r = (good_batch_2.sum(1) == sum_spin).nonzero().reshape(-1).to(device)\n",
        "        a = 2**torch.arange(nq -1, -1,-1).to(device)\n",
        "        out = good_batch_2[r]*a \n",
        "        out = out.sum(dim = 1).to(device)\n",
        "        res = (out.unsqueeze(1) == num_batch).nonzero()\n",
        "        col.append(r.cpu().numpy())\n",
        "        row.append(res[:,1].cpu().numpy())\n",
        "    row_xy = torch.tensor(row).reshape(-1).to(device)\n",
        "    col_xy = torch.tensor(col).reshape(-1).to(device)\n",
        "    data_xy = torch.ones(col_xy.shape[0]).to(device)\n",
        "\n",
        "    row = torch.arange(0,good_batch.shape[0]).to(device)\n",
        "    col = torch.arange(0,good_batch.shape[0]).to(device)\n",
        "    good_batch.to(device)\n",
        "    data = sparce_m_OBC(good_batch,nq, m) + sparce_iter(good_batch,nq)\n",
        "    Row = torch.cat((row, row_xy), 0)\n",
        "    Col = torch.cat((col, col_xy), 0)\n",
        "    Data = torch.cat((data, data_xy*x), 0)\n",
        "    \n",
        "    eigenvalues, eigenvectors = eigsh(csr_matrix((Data.cpu(), (Row.cpu(), Col.cpu())), shape=(good_batch.shape[0], good_batch.shape[0])).astype(float), k=2, which = 'SA')\n",
        "    return eigenvalues, eigenvectors, Data, Row, Col"
      ],
      "execution_count": 8,
      "outputs": []
    },
    {
      "cell_type": "code",
      "metadata": {
        "id": "WmNnlb7vl-1d"
      },
      "source": [
        "one = np.array([[1., 0.],[0.,1.]])\n",
        "pauli_1 = np.array([[0.,1.],[1.,0.]])\n",
        "pauli_2 = np.array([[0., 0-1j],[0 +1j, 0.]])\n",
        "pauli_3 = np.array([[1.,0.],[0., -1.]])\n",
        "plus = (1/2 * (pauli_1 + 1.j * pauli_2)).real\n",
        "minus = (1/2 * (pauli_1 - 1.j * pauli_2)).real"
      ],
      "execution_count": 9,
      "outputs": []
    },
    {
      "cell_type": "code",
      "metadata": {
        "id": "0tNMvzs9BytZ"
      },
      "source": [
        "def matrix_element_iter_new(batch):\n",
        "    batch_size = batch.shape[0]\n",
        "    batch_new = torch.clone(batch)\n",
        "    batch_new[batch_new == 1] = -1\n",
        "    batch_new[batch_new == 0] = 1\n",
        "    C = torch.zeros(batch_size, batch_size).to(device)\n",
        "    j = torch.arange(0,batch_size,1).to(device)\n",
        "    \n",
        "    coef_first = number_of_qubits - number_of_qubits % 2\n",
        "    coef = torch.zeros(number_of_qubits ).to(device)\n",
        "    \n",
        "    for i in range(number_of_qubits -1):\n",
        "        coef[i] = -coef_first\n",
        "        if i%2 == 0 : \n",
        "            coef_first = coef_first-2       \n",
        "\n",
        "    C[j,j] = -(batch_new[j]*coef).sum(dim = 1)\n",
        "    coef_2 = (torch.arange(number_of_qubits -2, 0, -1)*2).to(device)\n",
        "    \n",
        "    for i in range(0,number_of_qubits-1):\n",
        "        s = torch.zeros(batch_size).to(device)\n",
        "        for m in range(i+1, number_of_qubits-1):\n",
        "            s += coef_2[m - 1]*batch_new[:,m]  \n",
        "        C[j,j] += batch_new[j,i]*s[j]\n",
        "       \n",
        "    One = torch.eye(batch_size, batch_size).to(device)\n",
        "    I = torch.tensor([range(0,number_of_qubits)]).sum()\n",
        "    I += math.floor(number_of_qubits/2)\n",
        "    One *= I    \n",
        "    return (C + One)/4\n",
        "                \n",
        "\n",
        "def matrix_element_m(batch):\n",
        "\n",
        "    batch_new = torch.clone(batch)\n",
        "    batch_size = batch.shape[0]\n",
        "    batch_new[batch_new == 1] = -1\n",
        "    batch_new[batch_new == 0] = 1\n",
        "    \n",
        "    t = torch.arange(0,number_of_qubits,1).to(device)\n",
        "    \n",
        "    batch_new[:,t] *= (-1)**(t+1)\n",
        "    \n",
        "    M = torch.zeros(batch_size, batch_size).to(device)\n",
        "    j = torch.arange(0,batch_size,1)\n",
        "    M[j,j] = -batch_new.sum(dim = 1)\n",
        "    return m/2*M\n",
        "\n",
        "def matrix_element_xy_new_7(batch):\n",
        "    batch_new = torch.clone(batch)\n",
        "    batch_size = batch.shape[0]\n",
        "    batch_new[batch_new == 1] = -1\n",
        "    batch_new[batch_new == 0] = 1\n",
        "    res = batch_new.unsqueeze(1) != batch_new\n",
        "    \n",
        "    place = torch.zeros(number_of_qubits -1,number_of_qubits).to(device)\n",
        "    C = torch.zeros(batch_size, batch_size).to(device)\n",
        "    \n",
        "    for i in range(number_of_qubits-1):\n",
        "        place[i][i]= 1\n",
        "        place[i][i+1] = 1\n",
        "        true = torch.nonzero((res == place[i]).prod(dim = 2)==1)\n",
        "        ress = batch_new[true[:,0],i]*batch_new[true[:,0],i+1]\n",
        "        C[true[:,0], true[:,1]] = 1 - ress\n",
        "    return C/2\n",
        "\n",
        "def matrix(batch):               \n",
        "    return  matrix_element_iter_new(batch) + matrix_element_xy_new_7(batch) + matrix_element_m(batch)"
      ],
      "execution_count": 10,
      "outputs": []
    },
    {
      "cell_type": "code",
      "metadata": {
        "id": "p3c7NS1Vl5TU"
      },
      "source": [
        "def Get_H_B(m,x, number_of_qubits):\n",
        "    res_XY = torch.zeros(2**number_of_qubits, 2**number_of_qubits)\n",
        "    res_mass = torch.zeros(2**number_of_qubits, 2**number_of_qubits)\n",
        "    res_iter = torch.zeros(2**number_of_qubits, 2**number_of_qubits)\n",
        "\n",
        "\n",
        "    # XY term\n",
        "    first = one\n",
        "    for i in range(1,number_of_qubits):\n",
        "        first = one\n",
        "        second = one\n",
        "        for j in range(1, number_of_qubits -i-1):\n",
        "            first = TensorProduct(one, first)\n",
        "            second = TensorProduct(one, second)\n",
        "        if i != number_of_qubits - 1 :\n",
        "            first = TensorProduct(minus, first)\n",
        "            first = TensorProduct(plus, first)\n",
        "            second = TensorProduct(plus, second)\n",
        "            second = TensorProduct(minus, second)\n",
        "        else:\n",
        "            first = TensorProduct(plus, minus)\n",
        "            second = TensorProduct(minus, plus)\n",
        "        for j in range(1,i):\n",
        "            first = TensorProduct(one, first)\n",
        "            second = TensorProduct(one, second)\n",
        "        res_XY += torch.from_numpy(first + second)\n",
        "    res_XY *= x\n",
        "\n",
        "    # mass term\n",
        "    for i in range(0, number_of_qubits ):\n",
        "        mass = one\n",
        "        one_one = one\n",
        "        for j in range(0, number_of_qubits-2 - i):\n",
        "            mass = TensorProduct(one, mass)\n",
        "            one_one = TensorProduct(one, one_one)\n",
        "        if i == (number_of_qubits - 1):\n",
        "            mass = pauli_3\n",
        "            one_one = one\n",
        "        else:\n",
        "            mass = TensorProduct(pauli_3, mass)\n",
        "            one_one = TensorProduct(one, one_one)\n",
        "        for j in range(0, i):\n",
        "            mass = TensorProduct(one, mass)\n",
        "            one_one = TensorProduct(one, one_one)\n",
        "    \n",
        "        res_mass += (-1)**i * (torch.from_numpy(mass)) + one_one\n",
        "\n",
        "\n",
        "    # iteraction term\n",
        "    for i in range(0,number_of_qubits -1):\n",
        "        res_ite = torch.zeros(2**number_of_qubits , 2**number_of_qubits)\n",
        "        res_ones = torch.zeros(2**number_of_qubits , 2**number_of_qubits)\n",
        "        for j in range(0, i + 1):\n",
        "        \n",
        "            ite = one\n",
        "        \n",
        "            for k in range(0, number_of_qubits - j - 2):\n",
        "                ite = TensorProduct(one, ite)\n",
        "            if j == (number_of_qubits - 1):\n",
        "                ite = pauli_3\n",
        "            else:\n",
        "                ite = TensorProduct(pauli_3, ite)\n",
        "            for k in range(0, j):\n",
        "                ite = TensorProduct(one, ite)\n",
        "            res_ite += (torch.from_numpy(ite)) \n",
        "            ones = one\n",
        "        \n",
        "            for k in range(0,number_of_qubits-1):\n",
        "                ones = TensorProduct(one, ones)\n",
        "            res_ones += (-1)**j*(torch.from_numpy(ones))\n",
        "        res_iter += torch.matmul(res_ones + res_ite, res_ones + res_ite)   \n",
        "    \n",
        "    \n",
        "    return 1/4*res_iter + res_XY + m/2*res_mass "
      ],
      "execution_count": 11,
      "outputs": []
    },
    {
      "cell_type": "code",
      "source": [
        "exact_x10_m25 = torch.tensor([ -58.0255,   -68.2646,   -78.5062,   -88.7489,   -98.9921,  -150.2091,\n",
        "          -201.4265,  -252.6438,  -406.2958,  -508.7304,  -764.8170, -1020.9037,\n",
        "         -1276.9903, -1563.8073])\n",
        "exact_x10_m0 = torch.tensor([ -69.5819,   -81.7167,   -93.8621,  -106.0147,  -118.1724,  -178.9945,\n",
        "          -239.8327,  -300.6731,  -483.1951,  -604.8765,  -909.0800, -1213.2834,\n",
        "         -1517.4869, -1858.1948])\n",
        "exact_x100_m25 = torch.tensor([ -711.2917,   -835.2465,   -959.2649,  -1083.3279,  -1207.4241,\n",
        "          -1828.2040,  -2449.2478,  -3070.4105,  -4934.1245,  -6176.6444,\n",
        "          -9282.9572, -12389.2713, -15495.5854, -18974.6573])\n",
        "exact_x100_m0 = torch.tensor([-725.8484,   -852.1982,   -978.6049,  -1105.0506,  -1231.5242,\n",
        "          -1864.1365,  -2496.9708,  -3129.9237,  -5029.0974,  -6295.3063,\n",
        "          -9460.8839, -12626.4723, -15792.0613, -19337.5209])\n",
        "exact_x1_m0 = torch.tensor([ -5.0478,   -5.9427,   -6.8375,   -7.7324,   -8.6273,  -13.1016,\n",
        "          -17.5758,  -22.0501,  -35.4730,  -44.4216,  -66.7930,  -89.1645,\n",
        "         -111.5359, -136.5919])\n",
        "exact_x1_m01 = torch.tensor([   -4.7455,   -5.5886,   -6.4317,   -7.2749,   -8.1180,  -12.3335,\n",
        "          -16.5491,  -20.7647,  -33.4113,  -41.8425,  -62.9203,  -83.9981,\n",
        "         -105.0759, -128.6831])\n",
        "x = torch.tensor([12,14,16,18,20,30,40,50,80,100,150,200,250,306])"
      ],
      "metadata": {
        "id": "Hvz5lbZlgHwC"
      },
      "execution_count": null,
      "outputs": []
    },
    {
      "cell_type": "markdown",
      "source": [
        "#X = 1\n"
      ],
      "metadata": {
        "id": "LDDczdyxumAj"
      }
    },
    {
      "cell_type": "markdown",
      "metadata": {
        "id": "Z2_flCphc7iS"
      },
      "source": [
        "##x=1 m = 0"
      ]
    },
    {
      "cell_type": "markdown",
      "metadata": {
        "id": "482HDLyEEQ5A"
      },
      "source": [
        "###9term"
      ]
    },
    {
      "cell_type": "code",
      "metadata": {
        "id": "-2bFbkFgB-AD"
      },
      "source": [
        "#m = 0, x = 1 nq = 18 \n",
        "# Data from MPS\n",
        "w001011 = 2.40158028993361e-05\n",
        "w0011 = 0.00173099648456223\n",
        "w01 = 0.1999\n",
        "w10 = 0.6887\n",
        "w100011 = 0.000806741804831\n",
        "w1001 = 0.1068\n",
        "w1010 = 0.4943\n",
        "w10110 = 0.0861788455528179\n",
        "w110 = 0.108890386753691\n",
        "w11100 = 0.000748637218781378\n",
        "n= np.sqrt(w001011+w0011+w01+w100011+w1001+w1010+w10110+w110+w11100)"
      ],
      "execution_count": 13,
      "outputs": []
    },
    {
      "cell_type": "code",
      "metadata": {
        "id": "lrsazB5QBcf2"
      },
      "source": [
        "#Overlaps from data (norm of part, real and im parts)\n",
        "\n",
        "a= torch.zeros(8)\n",
        "a[0] = np.sqrt(0.797297640250068**2 +\t0.60348964906497**2)*np.sqrt(0.199883829232202)\n",
        "a[1] = np.sqrt(0.795822742139283**2 +0.602373270929322**2)*np.sqrt(0.688712449052086)\n",
        "a[2] = np.sqrt(0.410920829688335**2+\t0.911619217793715**2)*np.sqrt(0.00173104391998192)\n",
        "a[3] = np.sqrt(0.439205740956884**2+\t0.898100525004861**2)*np.sqrt(0.108889412613798)\n",
        "a[4] = np.sqrt(0.762921793824329**2+\t0.640201103654071**2)*np.sqrt(0.798363361188297)\n",
        "a[5] = np.sqrt(0.393625273035252**2 + 0.919207491601952**2)*np.sqrt(0.19988120851635)\n",
        "a[6] = np.sqrt(0.877820444974296**2 +0.478868008366455**2)*np.sqrt(0.199887133464269)\n",
        "a[7] = np.sqrt(0.888834989165014**2 +0.449310399188158**2)*np.sqrt(0.798356965013178)\n",
        "ol = torch.tensor([a[0], a[2],a[0],a[1],a[3],a[6],a[7],a[4],a[5],a[6],a[2], a[5],a[2],a[0]])"
      ],
      "execution_count": 14,
      "outputs": []
    },
    {
      "cell_type": "code",
      "metadata": {
        "id": "c_ygrOGICIPZ"
      },
      "source": [
        "ol[0] = ol[0]*np.sqrt(w0011*w01)\n",
        "ol[1] = ol[1]*np.sqrt(w01*w100011)\n",
        "ol[2] = ol[2]*np.sqrt(w1001*w01)\n",
        "ol[3] = ol[3]*np.sqrt(w01*w1010)\n",
        "ol[4] = ol[4]*np.sqrt(w01*w10110)\n",
        "ol[5] = ol[5]*np.sqrt(w1001*w100011)\n",
        "ol[6] = ol[6]*np.sqrt(w1010*w10110)\n",
        "ol[7] = ol[7]*np.sqrt(w110*w1010)\n",
        "ol[8] = ol[8]*np.sqrt(w110*w10110)\n",
        "ol[9] = ol[9]*np.sqrt(w001011*w0011)\n",
        "ol[10] = ol[10]*np.sqrt(w001011*w01)\n",
        "ol[11] = ol[11]*np.sqrt(w11100*w110)\n",
        "ol[12] = ol[12]*np.sqrt(w001011*w01)\n",
        "ol[13] = ol[13]*np.sqrt(w001011*w0011)"
      ],
      "execution_count": 15,
      "outputs": []
    },
    {
      "cell_type": "code",
      "metadata": {
        "id": "Nh6YxtIrArYP",
        "colab": {
          "base_uri": "https://localhost:8080/"
        },
        "outputId": "50260e37-1a55-4cd2-9eef-760c00c1d64b"
      },
      "source": [
        "# Calculate 6 Energies [13:18]\n",
        "start = 18\n",
        "E = []\n",
        "x_param = 1\n",
        "m = 0\n",
        "for nq in np.arange(start -6,start,1):\n",
        "  x = torch.arange(2**nq)\n",
        "  basis = int10tobase_torch(x).type(torch.float32)\n",
        "  good_vectors, good_batch, num_batch = Good_vectors(nq)\n",
        "  num_batch = num_batch.to(device)\n",
        "  eigenvalues, eigenvectors, Data, Row, Col = sparce_diag_matrix(nq,m,x_param,device,0)\n",
        "  E.append(eigenvalues[0])\n",
        "\n",
        "start = 18\n",
        "for nq in np.arange(start,307,1):\n",
        "  E_ = (w001011*( E[nq - (start)] +5 +2*m) + w0011*(E[nq - (start-2)] +3 + 2*m) + w01*( E[nq - (start- 4)] + 1 +2*m) + w100011*( E[nq - (start)] +3 +2*m) + w1001*( E[nq - (start-2)]+1 +2*m ) + w1010*( E[nq - (start-2)]) + w10110*( E[nq - (start-1)]+1+2*m ) + w110*(E[nq - (start-3)] + 1 +2*m)+ w11100*(E[nq - (start-1)]+ 3 +2*m) )/n**2 + 2*(-ol.sum()-np.sqrt(w1010*w1001))/n**2\n",
        "  #print(E_)\n",
        "  E.append(E_)"
      ],
      "execution_count": 16,
      "outputs": [
        {
          "output_type": "stream",
          "name": "stderr",
          "text": [
            "<ipython-input-8-52ab03d6bbff>:16: UserWarning: Creating a tensor from a list of numpy.ndarrays is extremely slow. Please consider converting the list to a single numpy.ndarray with numpy.array() before converting to a tensor. (Triggered internally at ../torch/csrc/utils/tensor_new.cpp:230.)\n",
            "  row_xy = torch.tensor(row).reshape(-1).to(device)\n"
          ]
        }
      ]
    },
    {
      "cell_type": "code",
      "source": [
        "np.savetxt('E9_x1_m0.txt',E)\n",
        "E9_x1_m0 = np.loadtxt('E9_x1_m0.txt') "
      ],
      "metadata": {
        "id": "hhzLpsx4y2bV"
      },
      "execution_count": 17,
      "outputs": []
    },
    {
      "cell_type": "code",
      "metadata": {
        "colab": {
          "base_uri": "https://localhost:8080/",
          "height": 282
        },
        "id": "cWzS4aPSLEfu",
        "outputId": "95dabcb2-67ae-4206-925a-b9b38e309be4"
      },
      "source": [
        "N = np.arange(start-6,307,1)\n",
        "x = torch.tensor([12,14,16,18,20,30,40,50,80,100,150,200,250,306])\n",
        "plt.plot(N,E9_x1_m0/N, label = '9 terms')\n",
        "plt.plot(x,exact_x1_m0/x, label = 'exact')\n",
        "plt.legend()"
      ],
      "execution_count": 18,
      "outputs": [
        {
          "output_type": "execute_result",
          "data": {
            "text/plain": [
              "<matplotlib.legend.Legend at 0x7f9ae6f85790>"
            ]
          },
          "metadata": {},
          "execution_count": 18
        },
        {
          "output_type": "display_data",
          "data": {
            "text/plain": [
              "<Figure size 432x288 with 1 Axes>"
            ],
            "image/png": "[encoded data removed]"
          },
          "metadata": {
            "needs_background": "light"
          }
        }
      ]
    },
    {
      "cell_type": "markdown",
      "metadata": {
        "id": "9RE5DItEEVwW"
      },
      "source": [
        "###11term"
      ]
    },
    {
      "cell_type": "code",
      "metadata": {
        "id": "i2qp1rexE0Oe"
      },
      "source": [
        "#m = 0, x = 1 nq = 18\n",
        "# Data from MPS\n",
        "w001011 = 2.40158028993361e-05\n",
        "w0011 = 0.00173099648456223\n",
        "w01 = 0.1999\n",
        "w10 = 0.6887\n",
        "w10001011 = 1.08765565163471e-05\n",
        "w100011 = 0.000806741804831\n",
        "w1001 = 0.1068\n",
        "w1010 = 0.4943\n",
        "w10110 = 0.0861788455528179\n",
        "w1011100 = 0.000629186767500283\n",
        "w110 = 0.108890386753691\n",
        "w11100 = 0.000748637218781378\n",
        "n= np.sqrt(w001011+w0011+w01+w100011+w1001+w1010+w10110+w110+w11100 + w10001011 + w1011100)"
      ],
      "execution_count": 19,
      "outputs": []
    },
    {
      "cell_type": "code",
      "metadata": {
        "id": "ebmhd6ysE0Of"
      },
      "source": [
        "a= torch.zeros(14)\n",
        "a[0] = np.sqrt(0.797297640250068**2 +\t0.60348964906497**2)*np.sqrt(0.199883829232202)\n",
        "a[1] = np.sqrt(0.795822742139283**2 +0.602373270929322**2)*np.sqrt(0.688712449052086)\n",
        "a[2] = np.sqrt(0.410920829688335**2+\t0.911619217793715**2)*np.sqrt(0.00173104391998192)\n",
        "a[3] = np.sqrt(0.439205740956884**2+\t0.898100525004861**2)*np.sqrt(0.108889412613798)\n",
        "a[4] = np.sqrt(0.762921793824329**2+\t0.640201103654071**2)*np.sqrt(0.798363361188297)\n",
        "\n",
        "a[5] = np.sqrt(0.393625273035252**2 + 0.919207491601952**2)*np.sqrt(0.19988120851635)\n",
        "a[6] = np.sqrt(0.877820444974296**2 +0.478868008366455**2)*np.sqrt(0.199887133464269)\n",
        "a[7] = np.sqrt(0.888834989165014**2 +0.449310399188158**2)*np.sqrt(0.798356965013178)\n",
        "\n",
        "\n",
        "a[8] = torch.clone(a[0])\n",
        "a[9] = torch.clone(a[2])\n",
        "a[10] = torch.clone(a[1])\n",
        "a[11] = torch.clone(torch.tensor(np.sqrt(w001011)))\n",
        "a[12] = torch.clone(torch.tensor(np.sqrt(w11100)))\n",
        "a[13] = torch.clone(a[2])\n",
        "ol = torch.tensor([a[0], a[2],a[0],a[1],a[3],a[6],a[7],a[4],a[5],a[6],a[2], a[5],a[8],a[9],a[10],a[11],a[12],a[13],a[2],a[0]])\n",
        "#ol = torch.tensor([a[0], a[2],a[0],a[1],a[3],a[6],a[7],a[4],a[5],a[6],a[2], a[5]])"
      ],
      "execution_count": 20,
      "outputs": []
    },
    {
      "cell_type": "code",
      "metadata": {
        "id": "7Aj5vTDuE0Og"
      },
      "source": [
        "ol[0] = ol[0]*np.sqrt(w0011*w01)\n",
        "ol[1] = ol[1]*np.sqrt(w01*w100011)\n",
        "ol[2] = ol[2]*np.sqrt(w1001*w01)\n",
        "ol[3] = ol[3]*np.sqrt(w01*w1010)\n",
        "ol[4] = ol[4]*np.sqrt(w01*w10110)\n",
        "ol[5] = ol[5]*np.sqrt(w1001*w100011)\n",
        "ol[6] = ol[6]*np.sqrt(w1010*w10110)\n",
        "ol[7] = ol[7]*np.sqrt(w110*w1010)\n",
        "ol[8] = ol[8]*np.sqrt(w110*w10110)\n",
        "ol[9] = ol[9]*np.sqrt(w001011*w0011)\n",
        "ol[10] = ol[10]*np.sqrt(w001011*w01)\n",
        "ol[11] = ol[11]*np.sqrt(w11100*w110)\n",
        "\n",
        "ol[12] = ol[12]*np.sqrt(w10001011*w100011)\n",
        "ol[13] = ol[13]*np.sqrt(w10001011*w1001)\n",
        "ol[14] = ol[14]*np.sqrt(w10110*w1011100)\n",
        "ol[15] = ol[15]*np.sqrt(w01*w10001011)\n",
        "ol[16] = ol[16]*np.sqrt(w01*w1011100)\n",
        "ol[17] = ol[17]*np.sqrt(w1011100*w110)\n",
        "\n",
        "\n",
        "ol[18] = ol[18]*np.sqrt(w001011*w01)\n",
        "ol[19] = ol[19]*np.sqrt(w001011*w0011)"
      ],
      "execution_count": 21,
      "outputs": []
    },
    {
      "cell_type": "code",
      "metadata": {
        "id": "PILhpVPjE0Og"
      },
      "source": [
        "start = 18\n",
        "E = []\n",
        "x_param = 1\n",
        "m = 0\n",
        "for nq in np.arange(start -8,start,1):\n",
        "  x = torch.arange(2**nq)\n",
        "  basis = int10tobase_torch(x).type(torch.float32)\n",
        "  good_vectors, good_batch, num_batch = Good_vectors(nq)\n",
        "  num_batch = num_batch.to(device)\n",
        "  eigenvalues, eigenvectors, Data, Row, Col = sparce_diag_matrix(nq,m,x_param,device,0)\n",
        "  E.append(eigenvalues[0])\n",
        "\n",
        "start = 18\n",
        "for nq in np.arange(start,307,1):\n",
        "  E_ = (w001011*( E[nq - start + 2] +5 +2*m) + w0011*(E[nq - start + 4] +3 + 2*m) + w01*( E[nq - (start- 6)] + 1 +2*m) + w100011*( E[nq - (start-2)] +3 +2*m) + w1001*( E[nq - (start-4)]+1 +2*m ) + w1010*( E[nq - (start-4)]) + w10110*( E[nq - (start-3)]+1+2*m ) + w110*(E[nq - (start-5)] + 1 +2*m)+ w11100*(E[nq - (start-3)]+ 3 +2*m)  + w1011100*(E[nq-start+1] + 3 + 2*m) + w10001011*(E[nq-start]+ 5 + 2*m))/n**2 + 2*(-ol.sum()-np.sqrt(w1010*w1001))/n**2\n",
        "  #print(E_)\n",
        "  E.append(E_)"
      ],
      "execution_count": 22,
      "outputs": []
    },
    {
      "cell_type": "code",
      "metadata": {
        "id": "-0dlYm_bV71U"
      },
      "source": [
        "np.savetxt('E11_x1_m0.txt',E)\n",
        "E11_x1_m0 = np.loadtxt('E11_x1_m0.txt') "
      ],
      "execution_count": 23,
      "outputs": []
    },
    {
      "cell_type": "code",
      "metadata": {
        "colab": {
          "base_uri": "https://localhost:8080/",
          "height": 282
        },
        "id": "v4ERoHUgV71V",
        "outputId": "b968f464-d59e-4f4e-e870-8465158e3bdb"
      },
      "source": [
        "N = np.arange(start-8,307,1)\n",
        "x = torch.tensor([12,14,16,18,20,30,40,50,80,100,150,200,250,306])\n",
        "plt.plot(N,E11_x1_m0/N, label = '11 terms')\n",
        "N = np.arange(start-6,307,1)\n",
        "plt.plot(N,E9_x1_m0/N, label = '9 terms')\n",
        "plt.plot(x,exact_x1_m0/x, label = 'exact')\n",
        "plt.legend()"
      ],
      "execution_count": 24,
      "outputs": [
        {
          "output_type": "execute_result",
          "data": {
            "text/plain": [
              "<matplotlib.legend.Legend at 0x7f9ae6f74430>"
            ]
          },
          "metadata": {},
          "execution_count": 24
        },
        {
          "output_type": "display_data",
          "data": {
            "text/plain": [
              "<Figure size 432x288 with 1 Axes>"
            ],
            "image/png": "[encoded data removed]"
          },
          "metadata": {
            "needs_background": "light"
          }
        }
      ]
    },
    {
      "cell_type": "markdown",
      "metadata": {
        "id": "0Nr0_oXvdCMw"
      },
      "source": [
        "##x=1 m = 0.1"
      ]
    },
    {
      "cell_type": "markdown",
      "metadata": {
        "id": "W5Zgwzx-fjLd"
      },
      "source": [
        "###9term"
      ]
    },
    {
      "cell_type": "code",
      "metadata": {
        "id": "goDBgepc5GcO"
      },
      "source": [
        "#m = 0.1, x = 1 nq = 18 \n",
        "#Data from MPS\n",
        "w001011 = 1.59355797842985e-05\n",
        "w0011 = 0.00130904277010119\t\n",
        "w01 = 0.177514058821735\n",
        "w10 = 0.716742333483117\n",
        "w100011 = 0.000649067094064316\n",
        "w1001 = 0.100292609553167\n",
        "w1010 = 0.531818137346089\n",
        "w10110 = 0.083441940415131\n",
        "w110 = 0.103788600551844\n",
        "w11100 = 0.00062230028445723\n",
        "n= np.sqrt(w001011+w0011+w01+w100011+w1001+w1010+w10110+w110+w11100)"
      ],
      "execution_count": 25,
      "outputs": []
    },
    {
      "cell_type": "code",
      "metadata": {
        "id": "ZXCaROzP5GcQ"
      },
      "source": [
        "a= torch.zeros(8)\n",
        "a[0] = np.sqrt(0.177514219188592)*np.sqrt(0.93430199411195**2+\t0.356366038767037**2)\n",
        "a[1] = np.sqrt(0.71674244408866)*np.sqrt(0.932996655878117**2+0.355868150731248**2)\n",
        "a[2] = np.sqrt(0.00130905448867319)*np.sqrt(0.12104582983895**2+0.992607188055437**2)\n",
        "a[3] = np.sqrt(0.103788331731205)*np.sqrt(0.306911040686105**2+0.951571582333403**2)\n",
        "a[4] = np.sqrt(0.821161161526126)*np.sqrt(0.353246550466207**2+0.932543833364208**2)\n",
        "a[5] = np.sqrt(0.177513553899011)*np.sqrt(0.915283155294413**2+0.402707973750892**2)\n",
        "a[6] = np.sqrt(0.17751519883097)*np.sqrt(0.240647623233458**2+0.970569779070271**2)\n",
        "a[7] = np.sqrt(0.821159385667823)*np.sqrt(0.0522243908535814**2+\t0.995838259724563**2)\n",
        "ol = torch.tensor([a[0], a[2],a[0],a[1],a[3],a[6],a[7],a[4],a[5],a[6],a[2], a[5]])"
      ],
      "execution_count": 26,
      "outputs": []
    },
    {
      "cell_type": "code",
      "metadata": {
        "id": "sFMx-z805GcR"
      },
      "source": [
        "ol[0] = ol[0]*np.sqrt(w0011*w01)\n",
        "ol[1] = ol[1]*np.sqrt(w01*w100011)\n",
        "ol[2] = ol[2]*np.sqrt(w1001*w01)\n",
        "ol[3] = ol[3]*np.sqrt(w01*w1010)\n",
        "ol[4] = ol[4]*np.sqrt(w01*w10110)\n",
        "ol[5] = ol[5]*np.sqrt(w1001*w100011)\n",
        "ol[6] = ol[6]*np.sqrt(w1010*w10110)\n",
        "ol[7] = ol[7]*np.sqrt(w110*w1010)\n",
        "ol[8] = ol[8]*np.sqrt(w110*w10110)\n",
        "ol[9] = ol[9]*np.sqrt(w001011*w0011)\n",
        "ol[10] = ol[10]*np.sqrt(w001011*w01)\n",
        "ol[11] = ol[11]*np.sqrt(w11100*w110)"
      ],
      "execution_count": 27,
      "outputs": []
    },
    {
      "cell_type": "code",
      "metadata": {
        "id": "fp1YPV3h5GcS"
      },
      "source": [
        "start = 18\n",
        "E = []\n",
        "x_param = 1\n",
        "m = 0.1\n",
        "for nq in np.arange(start -6,start,1):\n",
        "  x = torch.arange(2**nq)\n",
        "  basis = int10tobase_torch(x).type(torch.float32)\n",
        "  good_vectors, good_batch, num_batch = Good_vectors(nq)\n",
        "  num_batch = num_batch.to(device)\n",
        "  eigenvalues, eigenvectors, Data, Row, Col = sparce_diag_matrix(nq,m,x_param,device,0)\n",
        "  E.append(eigenvalues[0])\n",
        "\n",
        "start = 18\n",
        "for nq in np.arange(start,307,1):\n",
        "  E_ = (w001011*( E[nq - (start)] +5 +2*m) + w0011*(E[nq - (start-2)] +3 + 2*m) + w01*( E[nq - (start- 4)] + 1 +2*m) + w100011*( E[nq - (start)] +3 +2*m) + w1001*( E[nq - (start-2)]+1 +2*m ) + w1010*( E[nq - (start-2)]) + w10110*( E[nq - (start-1)]+1+2*m ) + w110*(E[nq - (start-3)] + 1 +2*m)+ w11100*(E[nq - (start-1)]+ 3 +2*m) )/n**2 + 2*(-ol.sum()-np.sqrt(w1010*w1001))/n**2\n",
        "  E.append(E_)\n"
      ],
      "execution_count": 28,
      "outputs": []
    },
    {
      "cell_type": "code",
      "metadata": {
        "id": "bndPLZsQIzXr"
      },
      "source": [
        "np.savetxt('E9_x1_m01.txt',E)\n",
        "E9_x1_m01 = np.loadtxt('E9_x1_m01.txt') "
      ],
      "execution_count": 29,
      "outputs": []
    },
    {
      "cell_type": "code",
      "metadata": {
        "colab": {
          "base_uri": "https://localhost:8080/",
          "height": 282
        },
        "id": "HJGGzmN-5GcW",
        "outputId": "9dfc0208-fdc0-4157-e6d2-0382b90a6bcc"
      },
      "source": [
        "N = np.arange(start-6,307,1)\n",
        "x = torch.tensor([12,14,16,18,20,30,40,50,80,100,150,200,250,306])\n",
        "plt.plot(N,E9_x1_m01/N, label = '9 terms')\n",
        "plt.plot(x,exact_x1_m01/x, label = 'exact')\n",
        "plt.legend()\n"
      ],
      "execution_count": 30,
      "outputs": [
        {
          "output_type": "execute_result",
          "data": {
            "text/plain": [
              "<matplotlib.legend.Legend at 0x7f9ae6a5dd30>"
            ]
          },
          "metadata": {},
          "execution_count": 30
        },
        {
          "output_type": "display_data",
          "data": {
            "text/plain": [
              "<Figure size 432x288 with 1 Axes>"
            ],
            "image/png": "[encoded data removed]"
          },
          "metadata": {
            "needs_background": "light"
          }
        }
      ]
    },
    {
      "cell_type": "markdown",
      "metadata": {
        "id": "7H8YU3yrflVM"
      },
      "source": [
        "###11term"
      ]
    },
    {
      "cell_type": "code",
      "metadata": {
        "id": "yI1YYaG1ft2V"
      },
      "source": [
        "#m = 0.1, x = 1 nq = 18 \n",
        "# Data from MPS\n",
        "w001011 = 1.59355797842985e-05\n",
        "w0011 = 0.00130904277010119\t\n",
        "w01 = 0.177514058821735\n",
        "w10 = 0.716742333483117\n",
        "w10001011 = 7.68632746981713e-06\n",
        "w100011 = 0.000649067094064316\n",
        "w1001 = 0.100292609553167\n",
        "w1010 = 0.531818137346089\n",
        "w10110 = 0.083441940415131\n",
        "w1011100 = 0.000526406778244713\n",
        "w110 = 0.103788600551844\n",
        "w11100 = 0.00062230028445723\n",
        "n= np.sqrt(w001011+w0011+w01+w100011+w1001+w1010+w10110+w110+w11100+ w10001011 + w1011100)"
      ],
      "execution_count": 31,
      "outputs": []
    },
    {
      "cell_type": "code",
      "metadata": {
        "id": "JKnIQVr2ft2X"
      },
      "source": [
        "a= torch.zeros(14)\n",
        "a[0] = np.sqrt(0.177514219188592)*np.sqrt(0.93430199411195**2+\t0.356366038767037**2)\n",
        "a[1] = np.sqrt(0.71674244408866)*np.sqrt(0.932996655878117**2+0.355868150731248**2)\n",
        "a[2] = np.sqrt(0.00130905448867319)*np.sqrt(0.12104582983895**2+0.992607188055437**2)\n",
        "a[3] = np.sqrt(0.103788331731205)*np.sqrt(0.306911040686105**2+0.951571582333403**2)\n",
        "a[4] = np.sqrt(0.821161161526126)*np.sqrt(0.353246550466207**2+0.932543833364208**2)\n",
        "a[5] = np.sqrt(0.177513553899011)*np.sqrt(0.915283155294413**2+0.402707973750892**2)\n",
        "a[6] = np.sqrt(0.17751519883097)*np.sqrt(0.240647623233458**2+0.970569779070271**2)\n",
        "a[7] = np.sqrt(0.821159385667823)*np.sqrt(0.0522243908535814**2+\t0.995838259724563**2)\n",
        "#ol = torch.tensor([a[0], a[2],a[0],a[1],a[3],a[6],a[7],a[4],a[5],a[6],a[2], a[5]])\n",
        "\n",
        "a[8] = torch.clone(a[0])\n",
        "a[9] = torch.clone(a[2])\n",
        "a[10] = torch.clone(a[1])\n",
        "a[11] = torch.clone(torch.tensor(np.sqrt(w001011)))\n",
        "a[12] = torch.clone(torch.tensor(np.sqrt(w11100)))\n",
        "a[13] = torch.clone(a[2])\n",
        "ol = torch.tensor([a[0], a[2],a[0],a[1],a[3],a[6],a[7],a[4],a[5],a[6],a[2], a[5],a[8],a[9],a[10],a[11],a[12],a[13]])\n",
        "#ol = torch.tensor([a[0], a[2],a[0],a[1],a[3],a[6],a[7],a[4],a[5],a[6],a[2], a[5]])"
      ],
      "execution_count": 32,
      "outputs": []
    },
    {
      "cell_type": "code",
      "metadata": {
        "id": "mXDfsHoaft2c"
      },
      "source": [
        "ol[0] = ol[0]*np.sqrt(w0011*w01)\n",
        "ol[1] = ol[1]*np.sqrt(w01*w100011)\n",
        "ol[2] = ol[2]*np.sqrt(w1001*w01)\n",
        "ol[3] = ol[3]*np.sqrt(w01*w1010)\n",
        "ol[4] = ol[4]*np.sqrt(w01*w10110)\n",
        "ol[5] = ol[5]*np.sqrt(w1001*w100011)\n",
        "ol[6] = ol[6]*np.sqrt(w1010*w10110)\n",
        "ol[7] = ol[7]*np.sqrt(w110*w1010)\n",
        "ol[8] = ol[8]*np.sqrt(w110*w10110)\n",
        "ol[9] = ol[9]*np.sqrt(w001011*w0011)\n",
        "ol[10] = ol[10]*np.sqrt(w001011*w01)\n",
        "ol[11] = ol[11]*np.sqrt(w11100*w110)\n",
        "\n",
        "ol[12] = ol[12]*np.sqrt(w10001011*w100011)\n",
        "ol[13] = ol[13]*np.sqrt(w10001011*w1001)\n",
        "ol[14] = ol[14]*np.sqrt(w10110*w1011100)\n",
        "ol[15] = ol[15]*np.sqrt(w01*w10001011)\n",
        "ol[16] = ol[16]*np.sqrt(w01*w1011100)\n",
        "ol[17] = ol[17]*np.sqrt(w1011100*w110)"
      ],
      "execution_count": 33,
      "outputs": []
    },
    {
      "cell_type": "code",
      "metadata": {
        "id": "ln_Bs1xeft2f"
      },
      "source": [
        "start = 18\n",
        "E = []\n",
        "x_param = 1\n",
        "m = 0.1\n",
        "for nq in np.arange(start -8,start,1):\n",
        "  x = torch.arange(2**nq)\n",
        "  basis = int10tobase_torch(x).type(torch.float32)\n",
        "  good_vectors, good_batch, num_batch = Good_vectors(nq)\n",
        "  num_batch = num_batch.to(device)\n",
        "  eigenvalues, eigenvectors, Data, Row, Col = sparce_diag_matrix(nq,m,x_param,device,0)\n",
        "  E.append(eigenvalues[0])\n",
        "\n",
        "for nq in np.arange(start,307,1):\n",
        "  E_ = (w001011*( E[nq - start + 2] +5 +2*m) + w0011*(E[nq - start + 4] +3 + 2*m) + w01*( E[nq - (start- 6)] + 1 +2*m) + w100011*( E[nq - (start-2)] +3 +2*m) + w1001*( E[nq - (start-4)]+1 +2*m ) + w1010*( E[nq - (start-4)]) + w10110*( E[nq - (start-3)]+1+2*m ) + w110*(E[nq - (start-5)] + 1 +2*m)+ w11100*(E[nq - (start-3)]+ 3 +2*m)  + w1011100*(E[nq-start+1] + 3 + 2*m) + w10001011*(E[nq-start]+ 5 + 2*m))/n**2 + 2*(-ol.sum()-np.sqrt(w1010*w1001))/n**2\n",
        "  E.append(E_)"
      ],
      "execution_count": 34,
      "outputs": []
    },
    {
      "cell_type": "code",
      "metadata": {
        "id": "PI76NeF7ggUd"
      },
      "source": [
        "np.savetxt('E11_x1_m01.txt',E)\n",
        "E11_x1_m01 = np.loadtxt('E11_x1_m01.txt') "
      ],
      "execution_count": 35,
      "outputs": []
    },
    {
      "cell_type": "code",
      "metadata": {
        "colab": {
          "base_uri": "https://localhost:8080/",
          "height": 282
        },
        "id": "hW2BqK6nggUe",
        "outputId": "96bc2af1-f6f1-43df-8a24-a1197a856266"
      },
      "source": [
        "N = np.arange(start-8,307,1)\n",
        "x = torch.tensor([12,14,16,18,20,30,40,50,80,100,150,200,250,306])\n",
        "plt.plot(x, exact_x1_m01/x, label = 'exact')\n",
        "plt.plot(N, E11_x1_m01/N, label = '11 terms')\n",
        "N = np.arange(start-6,307,1)\n",
        "plt.plot(N, E9_x1_m01/N, label = '9 terms')\n",
        "plt.legend()"
      ],
      "execution_count": 36,
      "outputs": [
        {
          "output_type": "execute_result",
          "data": {
            "text/plain": [
              "<matplotlib.legend.Legend at 0x7f9ae69cea00>"
            ]
          },
          "metadata": {},
          "execution_count": 36
        },
        {
          "output_type": "display_data",
          "data": {
            "text/plain": [
              "<Figure size 432x288 with 1 Axes>"
            ],
            "image/png": "[encoded data removed]"
          },
          "metadata": {
            "needs_background": "light"
          }
        }
      ]
    },
    {
      "cell_type": "markdown",
      "source": [
        "# X = 10"
      ],
      "metadata": {
        "id": "Bc76_YNtrPJD"
      }
    },
    {
      "cell_type": "markdown",
      "metadata": {
        "id": "yBO7-xCRjSW_"
      },
      "source": [
        "##x=10,m = 0"
      ]
    },
    {
      "cell_type": "markdown",
      "metadata": {
        "id": "A9LFpR1MA24g"
      },
      "source": [
        "###9term"
      ]
    },
    {
      "cell_type": "code",
      "metadata": {
        "id": "apRTFnZHjXVj"
      },
      "source": [
        "#m = 0, x = 10 Data from MPS\n",
        "w001011 = 0.00332287062162417\n",
        "w0011 = 0.0244476841688653\n",
        "w01 = 0.373998880184215\n",
        "w10 = 0.494213317427489\n",
        "w100011 = 0.0083948614091022\n",
        "w1001 = 0.143504503359102\n",
        "w1010 = 0.267143715594907\n",
        "w10110 = 0.0705462716567287\n",
        "w110 = 0.0995560601794406\n",
        "w11100 = 0.00313846590350794\t\n",
        "n = np.sqrt(w001011+w0011+w01+w100011+w1010+w1001+w10110+w110+w11100)\n"
      ],
      "execution_count": 37,
      "outputs": []
    },
    {
      "cell_type": "code",
      "metadata": {
        "id": "_xWVGzIDjXVm"
      },
      "source": [
        "a= torch.zeros(8)\n",
        "a[0] = np.sqrt(0.373998886081244)*np.sqrt(0.759784605665817\t**2+0.649011683644611**2)\n",
        "a[1] = np.sqrt(0.494213314988611)*np.sqrt(0.755515948009182**2+\t0.645365375648219**2)\n",
        "a[2] = np.sqrt(0.0244476857896228)*np.sqrt(0.858108911194066**2+0.504773963685414**2)\n",
        "a[3] = np.sqrt(0.0995560548561682)*np.sqrt(0.831828925068136**2+0.537393924197203**2)\n",
        "a[4] = np.sqrt(0.597281694072945)*np.sqrt(0.765630908129325**2+\t0.555828443845095**2)\n",
        "a[5] = np.sqrt(0.373998846492657)*np.sqrt(0.879492360858329**2+\t0.474322675721981**2)\n",
        "a[6] = np.sqrt(0.373998894864949)*np.sqrt(0.325819077334707**2+\t0.944632595847381**2)\n",
        "a[7] = np.sqrt(0.597281626245684)*np.sqrt(0.937717367911943**2+\t0.125785847867006**2)\n",
        "ol = torch.tensor([a[0], a[2],a[0],a[1],a[3],a[6],a[7],a[4],a[5],a[6],a[2], a[5],a[2],a[0]])"
      ],
      "execution_count": 38,
      "outputs": []
    },
    {
      "cell_type": "code",
      "metadata": {
        "id": "cLHJkfIYjXVn"
      },
      "source": [
        "ol[0] = ol[0]*np.sqrt(w0011*w01)\n",
        "ol[1] = ol[1]*np.sqrt(w01*w100011)\n",
        "ol[2] = ol[2]*np.sqrt(w1001*w01)\n",
        "ol[3] = ol[3]*np.sqrt(w01*w1010)\n",
        "ol[4] = ol[4]*np.sqrt(w01*w10110)\n",
        "ol[5] = ol[5]*np.sqrt(w1001*w100011)\n",
        "ol[6] = ol[6]*np.sqrt(w1010*w10110)\n",
        "ol[7] = ol[7]*np.sqrt(w110*w1010)\n",
        "ol[8] = ol[8]*np.sqrt(w110*w10110)\n",
        "ol[9] = ol[9]*np.sqrt(w001011*w0011)\n",
        "ol[10] = ol[10]*np.sqrt(w001011*w01)\n",
        "ol[11] = ol[11]*np.sqrt(w11100*w110)\n",
        "\n",
        "ol[12] = ol[12]*np.sqrt(w001011*w01)\n",
        "ol[13] = ol[13]*np.sqrt(w001011*w0011)"
      ],
      "execution_count": 39,
      "outputs": []
    },
    {
      "cell_type": "code",
      "metadata": {
        "id": "KlLtQ-EwjXVo"
      },
      "source": [
        "nq = 74\n",
        "m = 0\n",
        "E = []\n",
        "for nq in np.arange(74,80):\n",
        "  H_r = torch.zeros(4,4)\n",
        "  H_r[0,0] = -6.082*nq + 26.49\n",
        "  H_r[1,1] = -6.084*nq + 16.65\n",
        "  H_r[2,2] = -6.084*nq + 15.75 \n",
        "  H_r[3,3] = -6.086*nq + 21.49\n",
        "  H_r[0,1] =  -6.512\n",
        "  H_r[1,0] =  -6.512\n",
        "  H_r[2,1] = -9.909\n",
        "  H_r[1,2] = -9.909\n",
        "  H_r[2,3] = -8.088\n",
        "  H_r[3,2] = -8.088\n",
        "  values, vectors = np.linalg.eig(H_r)\n",
        "  R1 = vectors[:,0].reshape(-1)\n",
        "  E.append(values[0])\n",
        "\n",
        "start = 80\n",
        "for nq in np.arange(start,307,1):\n",
        "  E_ = (w001011*( E[nq - (start)] +5 +2*m) + w0011*(E[nq - (start-2)] +3 + 2*m) + w01*( E[nq - (start- 4)] + 1 +2*m) + w100011*( E[nq - (start)] +3 +2*m) + w1001*( E[nq - (start-2)]+1 +2*m ) + w1010*( E[nq - (start-2)]) + w10110*( E[nq - (start-1)]+1+2*m ) + w110*(E[nq - (start-3)] + 1 +2*m)+ w11100*(E[nq - (start-1)]+ 3 +2*m) )/n**2 + 20*(-ol.sum()-np.sqrt(w1010*w1001))/n**2\n",
        "  #print(E_)\n",
        "  E.append(E_)"
      ],
      "execution_count": 40,
      "outputs": []
    },
    {
      "cell_type": "code",
      "metadata": {
        "id": "JBp7UiLZjXVs"
      },
      "source": [
        "np.savetxt('E9_x10_m0.txt',E)\n",
        "E9_x10_m0 = np.loadtxt('E9_x10_m0.txt')"
      ],
      "execution_count": 41,
      "outputs": []
    },
    {
      "cell_type": "code",
      "metadata": {
        "colab": {
          "base_uri": "https://localhost:8080/",
          "height": 282
        },
        "id": "s5qUYPsRjXVs",
        "outputId": "e8d21497-03e1-48e6-c6c7-fd60abe57569"
      },
      "source": [
        "N = np.arange(start-6,307,1)\n",
        "x = torch.tensor([12,14,16,18,20,30,40,50,80,100,150,200,250,306])\n",
        "plt.plot(N,E9_x10_m0/N, label = 'converged weights')\n",
        "plt.plot(x, exact_x10_m0/x, label = 'exact')"
      ],
      "execution_count": 42,
      "outputs": [
        {
          "output_type": "execute_result",
          "data": {
            "text/plain": [
              "[<matplotlib.lines.Line2D at 0x7f9ae69554c0>]"
            ]
          },
          "metadata": {},
          "execution_count": 42
        },
        {
          "output_type": "display_data",
          "data": {
            "text/plain": [
              "<Figure size 432x288 with 1 Axes>"
            ],
            "image/png": "[encoded data removed]"
          },
          "metadata": {
            "needs_background": "light"
          }
        }
      ]
    },
    {
      "cell_type": "markdown",
      "metadata": {
        "id": "z9bceLvwA5TI"
      },
      "source": [
        "###11term"
      ]
    },
    {
      "cell_type": "code",
      "metadata": {
        "colab": {
          "base_uri": "https://localhost:8080/"
        },
        "id": "FuE0ouQVBEGu",
        "outputId": "b4fa89d5-d7b2-4c80-b545-b8d792025f9e"
      },
      "source": [
        "#m = 0, x = 10 Data from MPS\n",
        "w001011 = 0.00332287062162417\n",
        "w0011 = 0.0244476841688653\n",
        "w01 = 0.373998880184215\n",
        "w10 = 0.494213317427489\n",
        "w10001011 = 0.00111655739904886\n",
        "w100011 = 0.0083948614091022\n",
        "w1001 = 0.143504503359102\n",
        "w1010 = 0.267143715594907\n",
        "w10110 = 0.0705462716567287\n",
        "w1011100 = 0.00281055530592409\n",
        "w110 = 0.0995560601794406\n",
        "w11100 = 0.00313846590350794\t\n",
        "n = np.sqrt(w001011+w0011+w01+w100011+w1010+w1001+w10110+w110+w11100)\n",
        "n = np.sqrt(w001011+w0011+w01+w100011+w1001+w1010+w10110+w110+w11100 + w10001011 + w1011100)\n",
        "print(n)"
      ],
      "execution_count": 43,
      "outputs": [
        {
          "output_type": "stream",
          "name": "stdout",
          "text": [
            "0.9989897025407549\n"
          ]
        }
      ]
    },
    {
      "cell_type": "code",
      "metadata": {
        "id": "i6DhDsmRBEGx"
      },
      "source": [
        "a= torch.zeros(16)\n",
        "a[0] = np.sqrt(0.373998886081244)*np.sqrt(0.759784605665817\t**2+0.649011683644611**2)\n",
        "a[1] = np.sqrt(0.494213314988611)*np.sqrt(0.755515948009182**2+\t0.645365375648219**2)\n",
        "a[2] = np.sqrt(0.0244476857896228)*np.sqrt(0.858108911194066**2+0.504773963685414**2)\n",
        "a[3] = np.sqrt(0.0995560548561682)*np.sqrt(0.831828925068136**2+0.537393924197203**2)\n",
        "a[4] = np.sqrt(0.597281694072945)*np.sqrt(0.765630908129325**2+\t0.555828443845095**2)\n",
        "a[5] = np.sqrt(0.373998846492657)*np.sqrt(0.879492360858329**2+\t0.474322675721981**2)\n",
        "a[6] = np.sqrt(0.373998894864949)*np.sqrt(0.325819077334707**2+\t0.944632595847381**2)\n",
        "a[7] = np.sqrt(0.597281626245684)*np.sqrt(0.937717367911943**2+\t0.125785847867006**2)\n",
        "\n",
        "\n",
        "a[8] = torch.clone(a[0])\n",
        "a[9] = torch.clone(a[2])\n",
        "a[10] = torch.clone(a[1])\n",
        "a[11]  = np.sqrt(0.00332287110118853)*np.sqrt(0.262819832121407**2+0.95814022065026**2)#= torch.clone(torch.tensor(np.sqrt(w001011)))\n",
        "a[12] = np.sqrt(0.00313846549670361)*np.sqrt(0.978665228500561**2+\t0.195272344411112**2)#= torch.clone(torch.tensor(np.sqrt(w11100))) \n",
        "a[13] = torch.clone(a[2])\n",
        "\n",
        "a[14] = torch.clone(a[2])\n",
        "a[15] = torch.clone(a[0])\n",
        "ol = torch.tensor([a[0], a[2],a[0],a[1],a[3],a[6],a[7],a[4],a[5],a[6],a[2], a[5],a[8],a[9],a[10],a[11],a[12],a[13],a[14],a[15]])\n",
        "#ol = torch.tensor([a[0], a[2],a[0],a[1],a[3],a[6],a[7],a[4],a[5],a[6],a[2], a[5]])"
      ],
      "execution_count": 44,
      "outputs": []
    },
    {
      "cell_type": "code",
      "metadata": {
        "id": "w9Bc5rblBEGz"
      },
      "source": [
        "ol[0] = ol[0]*np.sqrt(w0011*w01)\n",
        "ol[1] = ol[1]*np.sqrt(w01*w100011)\n",
        "ol[2] = ol[2]*np.sqrt(w1001*w01)\n",
        "ol[3] = ol[3]*np.sqrt(w01*w1010)\n",
        "ol[4] = ol[4]*np.sqrt(w01*w10110)\n",
        "ol[5] = ol[5]*np.sqrt(w1001*w100011)\n",
        "ol[6] = ol[6]*np.sqrt(w1010*w10110)\n",
        "ol[7] = ol[7]*np.sqrt(w110*w1010)\n",
        "ol[8] = ol[8]*np.sqrt(w110*w10110)\n",
        "ol[9] = ol[9]*np.sqrt(w001011*w0011)\n",
        "ol[10] = ol[10]*np.sqrt(w001011*w01)\n",
        "ol[11] = ol[11]*np.sqrt(w11100*w110)\n",
        "\n",
        "\n",
        "ol[12] = ol[12]*np.sqrt(w10001011*w100011)\n",
        "ol[13] = ol[13]*np.sqrt(w10001011*w1001)\n",
        "ol[14] = ol[14]*np.sqrt(w10110*w1011100)\n",
        "ol[15] = ol[15]*np.sqrt(w01*w10001011)\n",
        "ol[16] = ol[16]*np.sqrt(w01*w1011100)\n",
        "ol[17] = ol[17]*np.sqrt(w1011100*w110)\n",
        "\n",
        "ol[18] = ol[18]*np.sqrt(w001011*w01)\n",
        "ol[19] =ol[19]*np.sqrt(w001011*w0011)"
      ],
      "execution_count": 45,
      "outputs": []
    },
    {
      "cell_type": "code",
      "metadata": {
        "id": "xqCyoKhsBEG0"
      },
      "source": [
        "nq = 72\n",
        "m = 0\n",
        "E = []\n",
        "for nq in np.arange(72,80):\n",
        "  H_r = torch.zeros(4,4)\n",
        "  H_r[0,0] = -6.082*nq + 26.49\n",
        "  H_r[1,1] = -6.084*nq + 16.65\n",
        "  H_r[2,2] = -6.084*nq + 15.75 \n",
        "  H_r[3,3] = -6.086*nq + 21.49\n",
        "  H_r[0,1] =  -6.512\n",
        "  H_r[1,0] =  -6.512\n",
        "  H_r[2,1] = -9.909\n",
        "  H_r[1,2] = -9.909\n",
        "  H_r[2,3] = -8.088\n",
        "  H_r[3,2] = -8.088\n",
        "  values, vectors = np.linalg.eig(H_r)\n",
        "  R1 = vectors[:,0].reshape(-1)\n",
        "  E.append(values[0])\n",
        "\n",
        "start = 80\n",
        "for nq in np.arange(80,307,1):\n",
        "  E_ = (w001011*( E[nq - start + 2] +5 +2*m) + w0011*(E[nq - start + 4] +3 + 2*m) + w01*( E[nq - (start- 6)] + 1 +2*m) + w100011*( E[nq - (start-2)] +3 +2*m) + w1001*( E[nq - (start-4)]+1 +2*m ) + w1010*( E[nq - (start-4)]) + w10110*( E[nq - (start-3)]+1+2*m ) + w110*(E[nq - (start-5)] + 1 +2*m)+ w11100*(E[nq - (start-3)]+ 3 +2*m)  + w1011100*(E[nq-start+1] + 3 + 2*m) + w10001011*(E[nq-start]+ 5 + 2*m))/n**2 + 20*(-ol.sum()-np.sqrt(w1010*w1001))/n**2\n",
        "  #print(E_)\n",
        "  E.append(E_)"
      ],
      "execution_count": 46,
      "outputs": []
    },
    {
      "cell_type": "code",
      "metadata": {
        "id": "-0xLGkPwBEG3"
      },
      "source": [
        "np.savetxt('E11_x10_m0.txt',E)\n",
        "E11_x10_m0 = np.loadtxt('E11_x10_m0.txt')"
      ],
      "execution_count": 47,
      "outputs": []
    },
    {
      "cell_type": "code",
      "metadata": {
        "colab": {
          "base_uri": "https://localhost:8080/",
          "height": 282
        },
        "id": "xOqRT6g6BEG4",
        "outputId": "4c109fe0-e9cd-46d8-9d79-769c3e92f736"
      },
      "source": [
        "N = np.arange(start-8,307,1)\n",
        "x = torch.tensor([12,14,16,18,20,30,40,50,80,100,150,200,250,306])\n",
        "plt.plot(N,E11_x10_m0/N, label = '11 terms')\n",
        "plt.plot(x, exact_x10_m0/x, label = 'exact')\n",
        "N = np.arange(start-6,307,1)\n",
        "plt.plot(N, E9_x10_m0/N, label = '9 terms')\n",
        "plt.legend()"
      ],
      "execution_count": 48,
      "outputs": [
        {
          "output_type": "execute_result",
          "data": {
            "text/plain": [
              "<matplotlib.legend.Legend at 0x7f9ae68af6a0>"
            ]
          },
          "metadata": {},
          "execution_count": 48
        },
        {
          "output_type": "display_data",
          "data": {
            "text/plain": [
              "<Figure size 432x288 with 1 Axes>"
            ],
            "image/png": "[encoded data removed]"
          },
          "metadata": {
            "needs_background": "light"
          }
        }
      ]
    },
    {
      "cell_type": "markdown",
      "metadata": {
        "id": "7NL9XABi8XHy"
      },
      "source": [
        "##x=10, m = 2.5"
      ]
    },
    {
      "cell_type": "markdown",
      "metadata": {
        "id": "WcLoFY_tAirh"
      },
      "source": [
        "###9term"
      ]
    },
    {
      "cell_type": "code",
      "metadata": {
        "colab": {
          "base_uri": "https://localhost:8080/"
        },
        "id": "2fod4di18aLg",
        "outputId": "9f1b847a-614f-4f65-dc80-9a56017e84b1"
      },
      "source": [
        "#m = 2.5, x = 10 Data from MPS\n",
        "w001011 = 0.000919438840879987\n",
        "w0011 = 0.0100947724505279\n",
        "w01 = 0.263108384194142\n",
        "w10 = 0.609799860127001\n",
        "w100011 = \t0.00399395422465334\n",
        "w1001 = 0.122781616289503\n",
        "w1010 = 0.394061775587907\n",
        "w10110 = 0.0859531994401827\n",
        "w110 = 0.113007718768893\n",
        "w11100 = 0.0026656998724599\t\t\n",
        "n = np.sqrt(w001011+w0011+w01+w100011+w1010+w1001+w10110+w110+w11100)\n",
        "n = np.sqrt(w001011+w0011+w01+w100011+w1001+w1010+w10110+w110+w11100)\n",
        "print(n)"
      ],
      "execution_count": 49,
      "outputs": [
        {
          "output_type": "stream",
          "name": "stdout",
          "text": [
            "0.9982918208966499\n"
          ]
        }
      ]
    },
    {
      "cell_type": "code",
      "metadata": {
        "colab": {
          "base_uri": "https://localhost:8080/"
        },
        "id": "81cnom6v8aLj",
        "outputId": "455e2823-87d5-4599-9afb-6f314632f362"
      },
      "source": [
        "a= torch.zeros(8)\n",
        "a[0] = np.sqrt(0.263108384187412)*np.sqrt(0.787710139058015**2+\t0.615730866060968**2)\n",
        "a[1] = np.sqrt(0.609799860109403)*np.sqrt(0.785093234178949**2+\t0.613685305119888**2)\n",
        "a[2] = np.sqrt(0.0100947724489662)*np.sqrt(0.533236467911787**2+0.84328356420035**2)\n",
        "a[3] = np.sqrt(0.113007718792398)*np.sqrt(0.126310164375767**2+0.991156521226541**2)\n",
        "a[4] = np.sqrt(0.725701089347914)*np.sqrt(0.550781913106866**2+0.819802106652408**2)\n",
        "a[5] = np.sqrt(0.263108384181216)*np.sqrt(0.980145905869626**2+0.197296137327964**2)\n",
        "a[6] = np.sqrt(0.26310838416753)*np.sqrt(0.099425486037954**2+0.994849905927476**2)\n",
        "a[7] = np.sqrt(0.725701089367933)*np.sqrt(0.701726657641771**2+\t0.694993458832397\t**2)\n",
        "ol = torch.tensor([a[0], a[2],a[0],a[1],a[3],a[6],a[7],a[4],a[5],a[6],a[2], a[5], a[2],a[0]])\n",
        "print(ol)"
      ],
      "execution_count": 50,
      "outputs": [
        {
          "output_type": "stream",
          "name": "stdout",
          "text": [
            "tensor([0.5128, 0.1002, 0.5128, 0.7782, 0.3359, 0.5128, 0.8414, 0.8414, 0.5128,\n",
            "        0.5128, 0.1002, 0.5128, 0.1002, 0.5128])\n"
          ]
        }
      ]
    },
    {
      "cell_type": "code",
      "metadata": {
        "id": "2FYK-ptE8aLl"
      },
      "source": [
        "ol[0] = ol[0]*np.sqrt(w0011*w01)\n",
        "ol[1] = ol[1]*np.sqrt(w01*w100011)\n",
        "ol[2] = ol[2]*np.sqrt(w1001*w01)\n",
        "ol[3] = ol[3]*np.sqrt(w01*w1010)\n",
        "ol[4] = ol[4]*np.sqrt(w01*w10110)\n",
        "ol[5] = ol[5]*np.sqrt(w1001*w100011)\n",
        "ol[6] = ol[6]*np.sqrt(w1010*w10110)\n",
        "ol[7] = ol[7]*np.sqrt(w110*w1010)\n",
        "ol[8] = ol[8]*np.sqrt(w110*w10110)\n",
        "ol[9] = ol[9]*np.sqrt(w001011*w0011)\n",
        "ol[10] = ol[10]*np.sqrt(w001011*w01)\n",
        "ol[11] = ol[11]*np.sqrt(w11100*w110)\n",
        "\n",
        "ol[12] = ol[12]*np.sqrt(w001011*w01)\n",
        "ol[13] = ol[13]*np.sqrt(w001011*w0011)"
      ],
      "execution_count": 51,
      "outputs": []
    },
    {
      "cell_type": "code",
      "metadata": {
        "id": "YQ9qMyAX8aLn"
      },
      "source": [
        "nq = 74\n",
        "m = 2.5\n",
        "E = []\n",
        "for nq in np.arange(74,80):\n",
        "  H_r = torch.zeros(4,4)\n",
        "  H_r[0,0] = -5.121*nq + 29.1\n",
        "  H_r[1,1] = -5.122*nq + 19.68\n",
        "  H_r[2,2] = -5.122*nq + 13.78 \n",
        "  H_r[3,3] = -5.122*nq + 23.56\n",
        "  H_r[0,1] =  -5.316\n",
        "  H_r[1,0] =  -5.316\n",
        "  H_r[2,1] = -9.955\n",
        "  H_r[1,2] = -9.955\n",
        "  H_r[2,3] = -8.752\n",
        "  H_r[3,2] = -8.752\n",
        "  values, vectors = np.linalg.eig(H_r)\n",
        "  R1 = vectors[:,0].reshape(-1)\n",
        "  E.append(values[0])\n",
        "\n",
        "start = 80\n",
        "for nq in np.arange(start,307,1):\n",
        "  E_ = (w001011*( E[nq - (start)] +5 +2*m) + w0011*(E[nq - (start-2)] +3 + 2*m) + w01*( E[nq - (start- 4)] + 1 +2*m) + w100011*( E[nq - (start)] +3 +2*m) + w1001*( E[nq - (start-2)]+1 +2*m ) + w1010*( E[nq - (start-2)]) + w10110*( E[nq - (start-1)]+1+2*m ) + w110*(E[nq - (start-3)] + 1 +2*m)+ w11100*(E[nq - (start-1)]+ 3 +2*m) )/n**2 + 20*(-ol.sum()-np.sqrt(w1010*w1001))/n**2\n",
        "  #print(E_)\n",
        "  E.append(E_)"
      ],
      "execution_count": 52,
      "outputs": []
    },
    {
      "cell_type": "code",
      "metadata": {
        "id": "rCyBxj2w8aLq"
      },
      "source": [
        "np.savetxt('E9_x10_m25.txt',E)\n",
        "E9_x10_m25 = np.loadtxt('E9_x10_m25.txt')"
      ],
      "execution_count": 53,
      "outputs": []
    },
    {
      "cell_type": "code",
      "metadata": {
        "colab": {
          "base_uri": "https://localhost:8080/",
          "height": 282
        },
        "id": "rPhH3pZ08aLs",
        "outputId": "b2a7b939-b228-41e4-81ad-39d91f3287af"
      },
      "source": [
        "N = np.arange(74,307,1)\n",
        "x = torch.tensor([12,14,16,18,20,30,40,50,80,100,150,200,250,306])\n",
        "plt.plot(N,E9_x10_m25/N, label = 'converged weights')\n",
        "plt.plot(x, exact_x10_m25/x, label = 'exact')\n",
        "plt.legend()"
      ],
      "execution_count": 54,
      "outputs": [
        {
          "output_type": "execute_result",
          "data": {
            "text/plain": [
              "<matplotlib.legend.Legend at 0x7f9ae68a05b0>"
            ]
          },
          "metadata": {},
          "execution_count": 54
        },
        {
          "output_type": "display_data",
          "data": {
            "text/plain": [
              "<Figure size 432x288 with 1 Axes>"
            ],
            "image/png": "[encoded data removed]"
          },
          "metadata": {
            "needs_background": "light"
          }
        }
      ]
    },
    {
      "cell_type": "markdown",
      "metadata": {
        "id": "PmxMN7C3Au1d"
      },
      "source": [
        "###11term"
      ]
    },
    {
      "cell_type": "code",
      "metadata": {
        "colab": {
          "base_uri": "https://localhost:8080/"
        },
        "id": "9QXiQb6rDOaV",
        "outputId": "e45953b9-05e3-4296-cdbc-2edb87481271"
      },
      "source": [
        "#m = 2.5, x = 10 Data from MPS\n",
        "w001011 = 0.000919438840879987\n",
        "w0011 = 0.0100947724505279\n",
        "w01 = 0.263108384194142\n",
        "w10 = 0.609799860127001\n",
        "w10001011 = 0.000346788879301937\n",
        "w100011 = \t0.00399395422465334\n",
        "w1001 = 0.122781616289503\n",
        "w1010 = 0.394061775587907\n",
        "w10110 = 0.0859531994401827\n",
        "w1011100 = 0.00237632985853286\n",
        "w110 = 0.113007718768893\n",
        "w11100 = 0.0026656998724599\t\t\n",
        "n = np.sqrt(w001011+w0011+w01+w100011+w1010+w1001+w10110+w110+w11100)\n",
        "n = np.sqrt(w001011+w0011+w01+w100011+w1001+w1010+w10110+w110+w11100 + w10001011 + w1011100)\n",
        "print(n)"
      ],
      "execution_count": 55,
      "outputs": [
        {
          "output_type": "stream",
          "name": "stdout",
          "text": [
            "0.9996547796149348\n"
          ]
        }
      ]
    },
    {
      "cell_type": "code",
      "metadata": {
        "id": "TUua5tVqDOaY"
      },
      "source": [
        "a= torch.zeros(16)\n",
        "a[0] = np.sqrt(0.263108384187412)*np.sqrt(0.787710139058015**2+\t0.615730866060968**2)\n",
        "a[1] = np.sqrt(0.609799860109403)*np.sqrt(0.785093234178949**2+\t0.613685305119888**2)\n",
        "a[2] = np.sqrt(0.0100947724489662)*np.sqrt(0.533236467911787**2+0.84328356420035**2)\n",
        "a[3] = np.sqrt(0.113007718792398)*np.sqrt(0.126310164375767**2+0.991156521226541**2)\n",
        "a[4] = np.sqrt(0.725701089347914)*np.sqrt(0.550781913106866**2+0.819802106652408**2)\n",
        "a[5] = np.sqrt(0.263108384181216)*np.sqrt(0.980145905869626**2+0.197296137327964**2)\n",
        "a[6] = np.sqrt(0.26310838416753)*np.sqrt(0.099425486037954**2+0.994849905927476**2)\n",
        "a[7] = np.sqrt(0.725701089367933)*np.sqrt(0.701726657641771**2+\t0.694993458832397\t**2)\n",
        "\n",
        "\n",
        "a[8] = torch.clone(a[0])\n",
        "a[9] = torch.clone(a[2])\n",
        "a[10] = torch.clone(a[1])\n",
        "a[11] = np.sqrt(0.000919438841022223)*np.sqrt(0.29672139802051**2\t+0.951073243633276**2) #= torch.clone(torch.tensor(np.sqrt(w001011)))\n",
        "a[12] = np.sqrt(0.00266569987407459)*np.sqrt(0.103310069356209**2\t+0.993557208117968**2) # = torch.clone(torch.tensor(np.sqrt(w11100)))\n",
        "a[13] = torch.clone(a[2])\n",
        "\n",
        "a[14] = torch.clone(a[2])\n",
        "a[15] = torch.clone(a[0])\n",
        "ol = torch.tensor([a[0], a[2],a[0],a[1],a[3],a[6],a[7],a[4],a[5],a[6],a[2], a[5],a[8],a[9],a[10],a[11],a[12],a[13],a[14],a[15]])\n"
      ],
      "execution_count": 56,
      "outputs": []
    },
    {
      "cell_type": "code",
      "metadata": {
        "id": "d4N5Ve2fDOaZ"
      },
      "source": [
        "ol[0] = ol[0]*np.sqrt(w0011*w01)\n",
        "ol[1] = ol[1]*np.sqrt(w01*w100011)\n",
        "ol[2] = ol[2]*np.sqrt(w1001*w01)\n",
        "ol[3] = ol[3]*np.sqrt(w01*w1010)\n",
        "ol[4] = ol[4]*np.sqrt(w01*w10110)\n",
        "ol[5] = ol[5]*np.sqrt(w1001*w100011)\n",
        "ol[6] = ol[6]*np.sqrt(w1010*w10110)\n",
        "ol[7] = ol[7]*np.sqrt(w110*w1010)\n",
        "ol[8] = ol[8]*np.sqrt(w110*w10110)\n",
        "ol[9] = ol[9]*np.sqrt(w001011*w0011)\n",
        "ol[10] = ol[10]*np.sqrt(w001011*w01)\n",
        "ol[11] = ol[11]*np.sqrt(w11100*w110)\n",
        "\n",
        "ol[12] = ol[12]*np.sqrt(w10001011*w100011)\n",
        "ol[13] = ol[13]*np.sqrt(w10001011*w1001)\n",
        "ol[14] = ol[14]*np.sqrt(w10110*w1011100)\n",
        "ol[15] = ol[15]*np.sqrt(w01*w10001011)\n",
        "ol[16] = ol[16]*np.sqrt(w01*w1011100)\n",
        "ol[17] = ol[17]*np.sqrt(w1011100*w110)\n",
        "\n",
        "ol[18] = ol[18]*np.sqrt(w001011*w01)\n",
        "ol[19] =ol[19]*np.sqrt(w001011*w0011)"
      ],
      "execution_count": 57,
      "outputs": []
    },
    {
      "cell_type": "code",
      "metadata": {
        "id": "g5XEdkB1DOaZ"
      },
      "source": [
        "nq = 72\n",
        "m = 2.5\n",
        "E = []\n",
        "for nq in np.arange(72,80):\n",
        "  H_r = torch.zeros(4,4)\n",
        "  H_r[0,0] = -5.121*nq + 29.1\n",
        "  H_r[1,1] = -5.122*nq + 19.68\n",
        "  H_r[2,2] = -5.122*nq + 13.78 \n",
        "  H_r[3,3] = -5.122*nq + 23.56\n",
        "  H_r[0,1] =  -5.316\n",
        "  H_r[1,0] =  -5.316\n",
        "  H_r[2,1] = -9.955\n",
        "  H_r[1,2] = -9.955\n",
        "  H_r[2,3] = -8.752\n",
        "  H_r[3,2] = -8.752\n",
        "  values, vectors = np.linalg.eig(H_r)\n",
        "  R1 = vectors[:,0].reshape(-1)\n",
        "  E.append(values[0])\n",
        "\n",
        "start = 80\n",
        "for nq in np.arange(80,307,1):\n",
        "  E_ = (w001011*( E[nq - start + 2] +5 +2*m) + w0011*(E[nq - start + 4] +3 + 2*m) + w01*( E[nq - (start- 6)] + 1 +2*m) + w100011*( E[nq - (start-2)] +3 +2*m) + w1001*( E[nq - (start-4)]+1 +2*m ) + w1010*( E[nq - (start-4)]) + w10110*( E[nq - (start-3)]+1+2*m ) + w110*(E[nq - (start-5)] + 1 +2*m)+ w11100*(E[nq - (start-3)]+ 3 +2*m)  + w1011100*(E[nq-start+1] + 3 + 2*m) + w10001011*(E[nq-start]+ 5 + 2*m))/n**2 + 20*(-ol.sum()-np.sqrt(w1010*w1001))/n**2\n",
        "  E.append(E_)"
      ],
      "execution_count": 58,
      "outputs": []
    },
    {
      "cell_type": "code",
      "metadata": {
        "id": "9J5le_pXDsfh"
      },
      "source": [
        "np.savetxt('E11_x10_m25.txt',E)\n",
        "E11_x10_m25 = np.loadtxt('E11_x10_m25.txt')"
      ],
      "execution_count": 59,
      "outputs": []
    },
    {
      "cell_type": "code",
      "metadata": {
        "colab": {
          "base_uri": "https://localhost:8080/",
          "height": 282
        },
        "id": "oem-eql1Dsfi",
        "outputId": "db04270d-7fa3-4f36-8951-640eefea253d"
      },
      "source": [
        "N = np.arange(start-8,307,1)\n",
        "x = torch.tensor([12,14,16,18,20,30,40,50,80,100,150,200,250,306])\n",
        "plt.plot(x, exact_x10_m25/x, label = 'exact')\n",
        "plt.plot(N,E11_x10_m25/N, label = '11 terms')\n",
        "N = np.arange(start-6,307,1)\n",
        "plt.plot(N,E9_x10_m25/N, label = '9 terms')\n",
        "plt.legend()"
      ],
      "execution_count": 60,
      "outputs": [
        {
          "output_type": "execute_result",
          "data": {
            "text/plain": [
              "<matplotlib.legend.Legend at 0x7f9ae6801160>"
            ]
          },
          "metadata": {},
          "execution_count": 60
        },
        {
          "output_type": "display_data",
          "data": {
            "text/plain": [
              "<Figure size 432x288 with 1 Axes>"
            ],
            "image/png": "[encoded data removed]"
          },
          "metadata": {
            "needs_background": "light"
          }
        }
      ]
    },
    {
      "cell_type": "markdown",
      "source": [
        "#X = 100"
      ],
      "metadata": {
        "id": "Ytm4UPsIvGfW"
      }
    },
    {
      "cell_type": "markdown",
      "metadata": {
        "id": "fA-DhWSzUkUj"
      },
      "source": [
        "##x = 100 m=0"
      ]
    },
    {
      "cell_type": "markdown",
      "source": [
        "### 9 term"
      ],
      "metadata": {
        "id": "V_gnQ_-YvL93"
      }
    },
    {
      "cell_type": "code",
      "metadata": {
        "id": "bIukOhsn2ANT"
      },
      "source": [
        "#m = 0, x = 100 Data from MPS\n",
        "\n",
        "w001011 = 0.0088909404618675\n",
        "w0011 = 0.0402435396148426\n",
        "w01 = 0.415377161953834\n",
        "w10 = 0.447126060915845\n",
        "w100011 = 0.0142051984348521\n",
        "w1001 = 0.151858299610668\n",
        "w1010 = 0.219958993092895\n",
        "w10110 = 0.0526053571953399\n",
        "w110 = 0.0791951282297465\n",
        "w11100 = 0.00278473729142628\n",
        "n = np.sqrt(w001011+w0011+w01+w100011+w1010+w1001+w10110+w110+w11100)\n"
      ],
      "execution_count": 61,
      "outputs": []
    },
    {
      "cell_type": "code",
      "metadata": {
        "id": "i---j50x1gQ8"
      },
      "source": [
        "a= torch.zeros(8)\n",
        "a[0] = np.sqrt(0.415388283972123)*np.sqrt(0.995304309795281**2\t+0.0655118343657348**2)\n",
        "a[1] = np.sqrt(0.447117693151699)*np.sqrt(0.991989652826353**2+\t0.0652936606335732**2)\n",
        "a[2] = np.sqrt(0.040247740846978)*np.sqrt(0.798085723689355**2 +\t0.579642127523834**2)\n",
        "a[3] = np.sqrt(0.0791851098619123)*np.sqrt(0.832499959069733**2\t-0.438321017182823**2)\n",
        "a[4] = np.sqrt(0.529937468823771)*np.sqrt(0.177079053942673**2 +\t0.833025150964529**2)\n",
        "a[5] = np.sqrt(0.415180104299204)*np.sqrt(0.687043825799479**2+\t0.723131010084857**2)\n",
        "a[6] = np.sqrt(0.415400781720677)*np.sqrt(0.766815850380277**2 + 0.637898431397149**2)\n",
        "a[7] = np.sqrt(0.529553724140784)*np.sqrt(0.725822103954878**2 + 0.44536239129891**2)\n",
        "ol = torch.tensor([a[0], a[2],a[0],a[1],a[3],a[6],a[7],a[4],a[5],a[6],a[2], a[5],a[2],a[0]])"
      ],
      "execution_count": 62,
      "outputs": []
    },
    {
      "cell_type": "code",
      "metadata": {
        "id": "uY48S7JLmzbp"
      },
      "source": [
        "ol[0] = ol[0]*np.sqrt(w0011*w01)\n",
        "ol[1] = ol[1]*np.sqrt(w01*w100011)\n",
        "ol[2] = ol[2]*np.sqrt(w1001*w01)\n",
        "ol[3] = ol[3]*np.sqrt(w01*w1010)\n",
        "ol[4] = ol[4]*np.sqrt(w01*w10110)\n",
        "ol[5] = ol[5]*np.sqrt(w1001*w100011)\n",
        "ol[6] = ol[6]*np.sqrt(w1010*w10110)\n",
        "ol[7] = ol[7]*np.sqrt(w110*w1010)\n",
        "ol[8] = ol[8]*np.sqrt(w110*w10110)\n",
        "ol[9] = ol[9]*np.sqrt(w001011*w0011)\n",
        "ol[10] = ol[10]*np.sqrt(w001011*w01)\n",
        "ol[11] = ol[11]*np.sqrt(w11100*w110)\n",
        "\n",
        "ol[12] = ol[12]*np.sqrt(w001011*w01)\n",
        "ol[13] = ol[13]*np.sqrt(w001011*w0011)"
      ],
      "execution_count": 63,
      "outputs": []
    },
    {
      "cell_type": "code",
      "metadata": {
        "id": "yIVJ6R4W7Xur"
      },
      "source": [
        "nq = 94\n",
        "m = 0\n",
        "E = []\n",
        "for nq in np.arange(94,100):\n",
        "  H_r = torch.zeros(4,4)\n",
        "  H_r[0,0] = -63.29*nq + 227.1\n",
        "  H_r[1,1] = -63.3*nq + 162.7\n",
        "  H_r[2,2] = -63.3*nq + 162 \n",
        "  H_r[3,3] = -63.34*nq + 217.4\n",
        "  H_r[0,1] =  -71.01\n",
        "  H_r[1,0] =  -71.01\n",
        "  H_r[2,1] = -98.75\n",
        "  H_r[1,2] = -98.75\n",
        "  H_r[2,3] = -75.93\n",
        "  H_r[3,2] = -75.93\n",
        "  values, vectors = np.linalg.eig(H_r)\n",
        "  R1 = vectors[:,0].reshape(-1)\n",
        "  E.append(values[0])\n",
        "\n",
        "start = 100\n",
        "for nq in np.arange(start,307,1):\n",
        "  E_ = (w001011*( E[nq - (start)] +5 +2*m) + w0011*(E[nq - (start-2)] +3 + 2*m) + w01*( E[nq - (start- 4)] + 1 +2*m) + w100011*( E[nq - (start)] +3 +2*m) + w1001*( E[nq - (start-2)]+1 +2*m ) + w1010*( E[nq - (start-2)]) + w10110*( E[nq - (start-1)]+1+2*m ) + w110*(E[nq - (start-3)] + 1 +2*m)+ w11100*(E[nq - (start-1)]+ 3 +2*m) )/n**2 + 200*(-ol.sum()-np.sqrt(w1010*w1001))/n**2\n",
        "  E.append(E_)"
      ],
      "execution_count": 64,
      "outputs": []
    },
    {
      "cell_type": "code",
      "metadata": {
        "id": "OT1cq3VdaezK"
      },
      "source": [
        "np.savetxt('E9_x100_m0.txt',E)\n",
        "E9_x100_m0 = np.loadtxt('E9_x100_m0.txt')"
      ],
      "execution_count": 65,
      "outputs": []
    },
    {
      "cell_type": "code",
      "metadata": {
        "colab": {
          "base_uri": "https://localhost:8080/",
          "height": 282
        },
        "id": "3X6UUuyvVJ2j",
        "outputId": "eb22a35c-de7c-4380-8254-26e1944601aa"
      },
      "source": [
        "N = np.arange(start-6,307,1)\n",
        "x = torch.tensor([12,14,16,18,20,30,40,50,80,100,150,200,250,306])\n",
        "plt.plot(x,exact_x100_m0/x, label = 'exact')\n",
        "plt.plot(N,E9_x100_m0/N, label = '9 terms')\n",
        "plt.legend()"
      ],
      "execution_count": 66,
      "outputs": [
        {
          "output_type": "execute_result",
          "data": {
            "text/plain": [
              "<matplotlib.legend.Legend at 0x7f9ae6778190>"
            ]
          },
          "metadata": {},
          "execution_count": 66
        },
        {
          "output_type": "display_data",
          "data": {
            "text/plain": [
              "<Figure size 432x288 with 1 Axes>"
            ],
            "image/png": "[encoded data removed]"
          },
          "metadata": {
            "needs_background": "light"
          }
        }
      ]
    },
    {
      "cell_type": "markdown",
      "source": [
        "### 11 terms"
      ],
      "metadata": {
        "id": "KZKFR0_Zvld6"
      }
    },
    {
      "cell_type": "code",
      "metadata": {
        "colab": {
          "base_uri": "https://localhost:8080/"
        },
        "id": "KdYspfYSn8KV",
        "outputId": "8043f8ab-6eba-43ba-c02d-f13c4845817f"
      },
      "source": [
        "#m = 0, x = 100 Data from MPS\n",
        "w001011 = 0.0088909404618675\n",
        "w0011 = 0.0402435396148426\n",
        "w01 = 0.415377161953834\n",
        "w10 = 0.447126060915845\n",
        "w10001011 = 0.00322667257534018\n",
        "w100011 = 0.0142051984348521\n",
        "w1001 = 0.151858299610668\n",
        "w1010 = 0.219958993092895\n",
        "w10110 = 0.0526053571953399\n",
        "w1011100 = 0.0024767891571256\n",
        "w110 = 0.0791951282297465\n",
        "w11100 = 0.00278473729142628\n",
        "print(n)\n",
        "n = np.sqrt(w001011+w0011+w01+w100011+w1001+w1010+w10110+w110+w11100 + w1011100 + w10001011)"
      ],
      "execution_count": 67,
      "outputs": [
        {
          "output_type": "stream",
          "name": "stdout",
          "text": [
            "0.9925317908689232\n"
          ]
        }
      ]
    },
    {
      "cell_type": "code",
      "metadata": {
        "id": "gL4J37pMn8KY"
      },
      "source": [
        "a= torch.zeros(16)\n",
        "a[0] = np.sqrt(0.415388283972123)*np.sqrt(0.995304309795281**2\t+0.0655118343657348**2)\n",
        "a[1] = np.sqrt(0.447117693151699)*np.sqrt(0.991989652826353**2+\t0.0652936606335732**2)\n",
        "a[2] = np.sqrt(0.040247740846978)*np.sqrt(0.798085723689355**2 +\t0.579642127523834**2)\n",
        "a[3] = np.sqrt(0.0791851098619123)*np.sqrt(0.832499959069733**2\t-0.438321017182823**2)\n",
        "a[4] = np.sqrt(0.529937468823771)*np.sqrt(0.177079053942673**2 +\t0.833025150964529**2)\n",
        "a[5] = np.sqrt(0.415180104299204)*np.sqrt(0.687043825799479**2+\t0.723131010084857**2)\n",
        "a[6] = np.sqrt(0.415400781720677)*np.sqrt(0.766815850380277**2 + 0.637898431397149**2)\n",
        "a[7] = np.sqrt(0.529553724140784)*np.sqrt(0.725822103954878**2 + 0.44536239129891**2)\n",
        "\n",
        "a[8] = torch.clone(a[0])\n",
        "a[9] = torch.clone(a[2])\n",
        "a[10] = torch.clone(a[1])\n",
        "a[11] = np.sqrt(0.00889267543568131)*np.sqrt(0.960407412916217**2+\t0.182757202340431**2) # torch.clone(torch.tensor(np.sqrt(w001011)))\n",
        "a[12] = np.sqrt(0.00278400026576385)*np.sqrt(0.587853079152462**2+\t0.781519205174316**2)# torch.clone(torch.tensor(np.sqrt(w11100)))\n",
        "a[13] = torch.clone(a[2])\n",
        "\n",
        "a[14] = torch.clone(a[2])\n",
        "a[15] = torch.clone(a[0])\n",
        "ol = torch.tensor([a[0], a[2],a[0],a[1],a[3],a[6],a[7],a[4],a[5],a[6],a[2], a[5],a[8],a[9],a[10],a[11],a[12],a[13],a[14],a[15]])"
      ],
      "execution_count": 68,
      "outputs": []
    },
    {
      "cell_type": "code",
      "metadata": {
        "id": "FSFTAAUGn8Ka"
      },
      "source": [
        "ol[0] = ol[0]*np.sqrt(w0011*w01)\n",
        "ol[1] = ol[1]*np.sqrt(w01*w100011)\n",
        "ol[2] = ol[2]*np.sqrt(w1001*w01)\n",
        "ol[3] = ol[3]*np.sqrt(w01*w1010)\n",
        "ol[4] = ol[4]*np.sqrt(w01*w10110)\n",
        "ol[5] = ol[5]*np.sqrt(w1001*w100011)\n",
        "ol[6] = ol[6]*np.sqrt(w1010*w10110)\n",
        "ol[7] = ol[7]*np.sqrt(w110*w1010)\n",
        "ol[8] = ol[8]*np.sqrt(w110*w10110)\n",
        "ol[9] = ol[9]*np.sqrt(w001011*w0011)\n",
        "ol[10] = ol[10]*np.sqrt(w001011*w01)\n",
        "ol[11] = ol[11]*np.sqrt(w11100*w110)\n",
        "\n",
        "ol[12] = ol[12]*np.sqrt(w10001011*w100011)\n",
        "ol[13] = ol[13]*np.sqrt(w10001011*w1001)\n",
        "ol[14] = ol[14]*np.sqrt(w10110*w1011100)\n",
        "ol[15] = ol[15]*np.sqrt(w01*w10001011)\n",
        "ol[16] = ol[16]*np.sqrt(w01*w1011100)\n",
        "ol[17] = ol[17]*np.sqrt(w1011100*w110)\n",
        "\n",
        "ol[18] = ol[18]*np.sqrt(w001011*w01)\n",
        "ol[19] =ol[19]*np.sqrt(w001011*w0011)"
      ],
      "execution_count": 69,
      "outputs": []
    },
    {
      "cell_type": "code",
      "metadata": {
        "id": "1PLGhQFrn8Kb"
      },
      "source": [
        "nq = 92\n",
        "m = 0\n",
        "E = []\n",
        "for nq in np.arange(92,100):\n",
        "  H_r = torch.zeros(4,4)\n",
        "  H_r[0,0] = -63.29*nq + 227.1\n",
        "  H_r[1,1] = -63.3*nq + 162.7\n",
        "  H_r[2,2] = -63.3*nq + 162 \n",
        "  H_r[3,3] = -63.34*nq + 217.4\n",
        "  H_r[0,1] =  -71.01\n",
        "  H_r[1,0] =  -71.01\n",
        "  H_r[2,1] = -98.75\n",
        "  H_r[1,2] = -98.75\n",
        "  H_r[2,3] = -75.93\n",
        "  H_r[3,2] = -75.93\n",
        "  values, vectors = np.linalg.eig(H_r)\n",
        "  R1 = vectors[:,0].reshape(-1)\n",
        "  E.append(values[0])\n",
        "\n",
        "start = 100\n",
        "for nq in np.arange(start,307,1):\n",
        "  E_ = (w001011*( E[nq - start + 2] +5 +2*m) + w0011*(E[nq - start + 4] +3 + 2*m) + w01*( E[nq - (start- 6)] + 1 +2*m) + w100011*( E[nq - (start-2)] +3 +2*m) + w1001*( E[nq - (start-4)]+1 +2*m ) + w1010*( E[nq - (start-4)]) + w10110*( E[nq - (start-3)]+1+2*m ) + w110*(E[nq - (start-5)] + 1 +2*m)+ w11100*(E[nq - (start-3)]+ 3 +2*m)  + w1011100*(E[nq-start+1] + 3 + 2*m) + w10001011*(E[nq-start]+ 5 + 2*m))/n**2 + 200*(-ol.sum()-np.sqrt(w1010*w1001))/n**2\n",
        "  E.append(E_)"
      ],
      "execution_count": 70,
      "outputs": []
    },
    {
      "cell_type": "code",
      "metadata": {
        "id": "fq0L11I_VDRl"
      },
      "source": [
        "np.savetxt('E11_x100_m0.txt',E)\n",
        "E11_x100_m0 = np.loadtxt('E11_x100_m0.txt')"
      ],
      "execution_count": 71,
      "outputs": []
    },
    {
      "cell_type": "code",
      "metadata": {
        "colab": {
          "base_uri": "https://localhost:8080/",
          "height": 282
        },
        "id": "fNTVNEA5Osyy",
        "outputId": "bdaebc2d-27be-4987-825a-aa02bdf5235c"
      },
      "source": [
        "N = np.arange(start-8,307,1)\n",
        "x = torch.tensor([12,14,16,18,20,30,40,50,80,100,150,200,250,306])\n",
        "plt.plot(x,exact_x100_m0/x, label = 'exact')\n",
        "plt.plot(N,E11_x100_m0/N, label = '11 terms')\n",
        "N = np.arange(start-6,307,1)\n",
        "plt.plot(N,E9_x100_m0/N, label = '9 terms')\n",
        "plt.legend()"
      ],
      "execution_count": 72,
      "outputs": [
        {
          "output_type": "execute_result",
          "data": {
            "text/plain": [
              "<matplotlib.legend.Legend at 0x7f9ae67ccc10>"
            ]
          },
          "metadata": {},
          "execution_count": 72
        },
        {
          "output_type": "display_data",
          "data": {
            "text/plain": [
              "<Figure size 432x288 with 1 Axes>"
            ],
            "image/png": "[encoded data removed]"
          },
          "metadata": {
            "needs_background": "light"
          }
        }
      ]
    },
    {
      "cell_type": "markdown",
      "metadata": {
        "id": "WkcMJw_-Um3s"
      },
      "source": [
        "## x = 100 m = 2.5"
      ]
    },
    {
      "cell_type": "markdown",
      "source": [
        "### 9 terms"
      ],
      "metadata": {
        "id": "8PdnU2ELy_PP"
      }
    },
    {
      "cell_type": "code",
      "metadata": {
        "id": "Nax7yr36VTWh"
      },
      "source": [
        "#m = 2.5 x = 100 Data from MPS\n",
        "ol = torch.tensor([])\n",
        "w001011 = 0.00752988246523393\n",
        "w0011 = 0.035863661035673\n",
        "w01 = 0.3974\n",
        "w10 = 0.4648\n",
        "w100011 = 0.0127160651123813 \n",
        "w1001 = 0.1485\n",
        "w1010 = 0.236955371322187\n",
        "w10110 = 0.0587275332441122\n",
        "w110 =0.0861859006896203\n",
        "w11100 = 0.0030668984636399\n",
        "n = np.sqrt(w001011+w0011+w01+w100011+w1001+w1010+w10110+w110+w11100)"
      ],
      "execution_count": 73,
      "outputs": []
    },
    {
      "cell_type": "code",
      "metadata": {
        "id": "dXoRSJuN2GQU"
      },
      "source": [
        "a= torch.zeros(8)\n",
        "a[0] = np.sqrt(0.397387637301697)*np.sqrt(0.956306426619269**2+\t0.285148316775481**2)\n",
        "a[1] = np.sqrt(0.464778802690724)*np.sqrt(0.952480645866461**2+\t0.284007558007137**2)\n",
        "a[2] = np.sqrt(0.0358644352731934)*np.sqrt(0.230161612579563**2+\t0.960617063929095**2)\n",
        "a[3] = np.sqrt(0.0861840043856103)*np.sqrt(0.964436759696804**2+0.0415491118902738**2)\n",
        "a[4] = np.sqrt(0.55461568837445)*np.sqrt(0.882948072790023**2+\t0.131401647715683**2)\n",
        "a[5] = np.sqrt(0.397358513406266)*np.sqrt(\t0.921277350849207**2+\t0.383513868458209**2)\n",
        "a[6] = np.sqrt(0.397390104164239)*np.sqrt(\t0.500122086688256**2+\t0.863544534257813**2)\n",
        "a[7] = np.sqrt(0.554561386692807)*np.sqrt(\t0.865634457842551**2+\t0.218018828045557**2)\n",
        "ol = torch.tensor([a[0], a[2],a[0],a[1],a[3],a[6],a[7],a[4],a[5],a[6],a[2], a[5],a[2],a[0]])"
      ],
      "execution_count": 74,
      "outputs": []
    },
    {
      "cell_type": "code",
      "metadata": {
        "id": "LOHTxQ1LTyUN"
      },
      "source": [
        "ol[0] = ol[0]*np.sqrt(w0011*w01)\n",
        "ol[1] = ol[1]*np.sqrt(w01*w100011)\n",
        "ol[2] = ol[2]*np.sqrt(w1001*w01)\n",
        "ol[3] = ol[3]*np.sqrt(w01*w1010)\n",
        "ol[4] = ol[4]*np.sqrt(w01*w10110)\n",
        "ol[5] = ol[5]*np.sqrt(w1001*w100011)\n",
        "ol[6] = ol[6]*np.sqrt(w1010*w10110)\n",
        "ol[7] = ol[7]*np.sqrt(w110*w1010)\n",
        "ol[8] = ol[8]*np.sqrt(w110*w10110)\n",
        "ol[9] = ol[9]*np.sqrt(w001011*w0011)\n",
        "ol[10] = ol[10]*np.sqrt(w001011*w01)\n",
        "ol[11] = ol[11]*np.sqrt(w11100*w110)\n",
        "\n",
        "ol[12] = ol[12]*np.sqrt(w001011*w01)\n",
        "ol[13] = ol[13]*np.sqrt(w001011*w0011)"
      ],
      "execution_count": 75,
      "outputs": []
    },
    {
      "cell_type": "code",
      "metadata": {
        "id": "F0rMfVkzUthv"
      },
      "source": [
        "nq = 94\n",
        "m = 2.5\n",
        "E = []\n",
        "for nq in np.arange(94,100):\n",
        "  H_r = torch.zeros(4,4)\n",
        "  H_r[0,0] = -62.15*nq + 216.9\n",
        "  H_r[1,1] = -62.12*nq + 160\n",
        "  H_r[2,2] = -62.12*nq + 165.6\n",
        "  H_r[3,3] = -62.1*nq + 230.1\n",
        "  H_r[0,1] =  -68.97\n",
        "  H_r[1,0] =  -68.97\n",
        "  H_r[2,1] = -98.81\n",
        "  H_r[1,2] = -98.81\n",
        "  H_r[2,3] = -77.66\n",
        "  H_r[3,2] = -77.66\n",
        "  values, vectors = np.linalg.eig(H_r)\n",
        "  R1 = vectors[:,0].reshape(-1)\n",
        "  E.append(values[0])\n",
        "\n",
        "\n",
        "start = 100\n",
        "for nq in np.arange(start,307,1):\n",
        "  E_ = (w001011*( E[nq - (start)] +5 +2*m) + w0011*(E[nq - (start-2)] +3 + 2*m) + w01*( E[nq - (start- 4)] + 1 +2*m) + w100011*( E[nq - (start)] +3 +2*m) + w1001*( E[nq - (start-2)]+1 +2*m ) + w1010*( E[nq - (start-2)]) + w10110*( E[nq - (start-1)]+1+2*m ) + w110*(E[nq - (start-3)] + 1 +2*m)+ w11100*(E[nq - (start-1)]+ 3 +2*m) )/n**2 + 200*(-ol.sum()-np.sqrt(w1010*w1001))/n**2\n",
        "  #print(E_)\n",
        "  E.append(E_)"
      ],
      "execution_count": 76,
      "outputs": []
    },
    {
      "cell_type": "code",
      "metadata": {
        "id": "QSV33jwgpcMW"
      },
      "source": [
        "np.savetxt('E9_x100_m25.txt',E)\n",
        "E9_x100_m25 = np.loadtxt('E9_x100_m25.txt')"
      ],
      "execution_count": 77,
      "outputs": []
    },
    {
      "cell_type": "code",
      "metadata": {
        "colab": {
          "base_uri": "https://localhost:8080/",
          "height": 282
        },
        "id": "glXOpsHeS5um",
        "outputId": "0284eb17-9540-4dde-fd8e-4001f86f0cbf"
      },
      "source": [
        "N = np.arange(start-6,307,1)\n",
        "x = torch.tensor([12,14,16,18,20,30,40,50,80,100,150,200,250,306])\n",
        "plt.plot(x,exact_x100_m25/x, label = 'exact')\n",
        "plt.plot(N,E9_x100_m25/N, label = '9 terms')\n",
        "plt.legend()"
      ],
      "execution_count": 78,
      "outputs": [
        {
          "output_type": "execute_result",
          "data": {
            "text/plain": [
              "<matplotlib.legend.Legend at 0x7f9ae66e3b50>"
            ]
          },
          "metadata": {},
          "execution_count": 78
        },
        {
          "output_type": "display_data",
          "data": {
            "text/plain": [
              "<Figure size 432x288 with 1 Axes>"
            ],
            "image/png": "[encoded data removed]"
          },
          "metadata": {
            "needs_background": "light"
          }
        }
      ]
    },
    {
      "cell_type": "markdown",
      "metadata": {
        "id": "FhER1NIAGHO-"
      },
      "source": [
        "###11 term"
      ]
    },
    {
      "cell_type": "code",
      "metadata": {
        "id": "zICAZoJ01qiT"
      },
      "source": [
        "#m = 2.5 x = 100 Data from MPS\n",
        "ol = torch.tensor([])\n",
        "w001011 = 0.00752988246523393\n",
        "w0011 = 0.035863661035673\n",
        "w01 = 0.3974\n",
        "w10 = 0.4648\n",
        "w10001011 = 0.00272652745951234\n",
        "w100011 = 0.0127160651123813 \n",
        "w1001 = 0.1485\n",
        "w1010 = 0.236955371322187\n",
        "w10110 = 0.0587275332441122\n",
        "w1011100 = 0.00276586246508559\n",
        "w110 =0.0861859006896203\n",
        "w11100 = 0.0030668984636399\n",
        "n = np.sqrt(w001011+w0011+w01+w100011+w1001+w1010+w10110+w110+w11100 + w1011100 + w10001011)"
      ],
      "execution_count": 79,
      "outputs": []
    },
    {
      "cell_type": "code",
      "metadata": {
        "id": "siDTbWns1qiY"
      },
      "source": [
        "a= torch.zeros(16)\n",
        "a[0] = np.sqrt(0.397387637301697)*np.sqrt(0.956306426619269**2+\t0.285148316775481**2)\n",
        "a[1] = np.sqrt(0.464778802690724)*np.sqrt(0.952480645866461**2+\t0.284007558007137**2)\n",
        "a[2] = np.sqrt(0.0358644352731934)*np.sqrt(0.230161612579563**2+\t0.960617063929095**2)\n",
        "a[3] = np.sqrt(0.0861840043856103)*np.sqrt(0.964436759696804**2+0.0415491118902738**2)\n",
        "a[4] = np.sqrt(0.55461568837445)*np.sqrt(0.882948072790023**2+\t0.131401647715683**2)\n",
        "a[5] = np.sqrt(0.397358513406266)*np.sqrt(\t0.921277350849207**2+\t0.383513868458209**2)\n",
        "a[6] = np.sqrt(0.397390104164239)*np.sqrt(\t0.500122086688256**2+\t0.863544534257813**2)\n",
        "a[7] = np.sqrt(0.554561386692807)*np.sqrt(\t0.865634457842551**2+\t0.218018828045557**2)\n",
        "a[8] = torch.clone(a[0])\n",
        "a[9] = torch.clone(a[2])\n",
        "a[10] = torch.clone(a[1])\n",
        "a[11] = np.sqrt(0.00753020024562515)*np.sqrt(0.742989840069015**2\t+0.63835919307174**2) # torch.clone(torch.tensor(np.sqrt(w001011)))\n",
        "a[12] = np.sqrt(0.00306675615032512)*np.sqrt(0.189675996965461**2+\t0.971104086381543**2) #torch.clone(torch.tensor(np.sqrt(w11100)))\n",
        "a[13] = torch.clone(a[2])\n",
        "a[14] = torch.clone(a[2])\n",
        "a[15] = torch.clone(a[0])\n",
        "ol = torch.tensor([a[0], a[2],a[0],a[1],a[3],a[6],a[7],a[4],a[5],a[6],a[2], a[5],a[8],a[9],a[10],a[11],a[12],a[13],a[14],a[15]])"
      ],
      "execution_count": 80,
      "outputs": []
    },
    {
      "cell_type": "code",
      "metadata": {
        "id": "ZDoFSXey1qia"
      },
      "source": [
        "ol[0] = ol[0]*np.sqrt(w0011*w01)\n",
        "ol[1] = ol[1]*np.sqrt(w01*w100011)\n",
        "ol[2] = ol[2]*np.sqrt(w1001*w01)\n",
        "ol[3] = ol[3]*np.sqrt(w01*w1010)\n",
        "ol[4] = ol[4]*np.sqrt(w01*w10110)\n",
        "ol[5] = ol[5]*np.sqrt(w1001*w100011)\n",
        "ol[6] = ol[6]*np.sqrt(w1010*w10110)\n",
        "ol[7] = ol[7]*np.sqrt(w110*w1010)\n",
        "ol[8] = ol[8]*np.sqrt(w110*w10110)\n",
        "ol[9] = ol[9]*np.sqrt(w001011*w0011)\n",
        "ol[10] = ol[10]*np.sqrt(w001011*w01)\n",
        "ol[11] = ol[11]*np.sqrt(w11100*w110)\n",
        "ol[12] = ol[12]*np.sqrt(w10001011*w100011)\n",
        "ol[13] = ol[13]*np.sqrt(w10001011*w1001)\n",
        "ol[14] = ol[14]*np.sqrt(w10110*w1011100)\n",
        "ol[15] = ol[15]*np.sqrt(w01*w10001011)\n",
        "ol[16] = ol[16]*np.sqrt(w01*w1011100)\n",
        "ol[17] = ol[17]*np.sqrt(w1011100*w110)\n",
        "ol[18] = ol[18]*np.sqrt(w001011*w01)\n",
        "ol[19] =ol[19]*np.sqrt(w001011*w0011)\n"
      ],
      "execution_count": 81,
      "outputs": []
    },
    {
      "cell_type": "code",
      "metadata": {
        "id": "Zakzx8Vj1qic"
      },
      "source": [
        "nq = 92\n",
        "m = 2.5\n",
        "E = []\n",
        "for nq in np.arange(92,100):\n",
        "  H_r = torch.zeros(4,4)\n",
        "  H_r[0,0] = -62.15*nq + 216.9\n",
        "  H_r[1,1] = -62.12*nq + 160\n",
        "  H_r[2,2] = -62.12*nq + 165.6\n",
        "  H_r[3,3] = -62.1*nq + 230.1\n",
        "  H_r[0,1] =  -68.97\n",
        "  H_r[1,0] =  -68.97\n",
        "  H_r[2,1] = -98.81\n",
        "  H_r[1,2] = -98.81\n",
        "  H_r[2,3] = -77.66\n",
        "  H_r[3,2] = -77.66\n",
        "  values, vectors = np.linalg.eig(H_r)\n",
        "  R1 = vectors[:,0].reshape(-1)\n",
        "  E.append(values[0])\n",
        "\n",
        "start = 100\n",
        "for nq in np.arange(start,307,1):\n",
        "  E_ = (w001011*( E[nq - start + 2] +5 +2*m) + w0011*(E[nq - start + 4] +3 + 2*m) + w01*( E[nq - (start- 6)] + 1 +2*m) + w100011*( E[nq - (start-2)] +3 +2*m) + w1001*( E[nq - (start-4)]+1 +2*m ) + w1010*( E[nq - (start-4)]) + w10110*( E[nq - (start-3)]+1+2*m ) + w110*(E[nq - (start-5)] + 1 +2*m)+ w11100*(E[nq - (start-3)]+ 3 +2*m)  + w1011100*(E[nq-start+1] + 3 + 2*m) + w10001011*(E[nq-start]+ 5 + 2*m))/n**2 + 200*(-ol.sum()-np.sqrt(w1010*w1001))/n**2\n",
        "  E.append(E_)"
      ],
      "execution_count": 82,
      "outputs": []
    },
    {
      "cell_type": "code",
      "metadata": {
        "id": "GITEBe_os8jn"
      },
      "source": [
        "np.savetxt('E11_x100_m25.txt',E)\n",
        "E11_x100_m25 = np.loadtxt('E11_x100_m25.txt')"
      ],
      "execution_count": 83,
      "outputs": []
    },
    {
      "cell_type": "code",
      "metadata": {
        "colab": {
          "base_uri": "https://localhost:8080/",
          "height": 282
        },
        "id": "DhU2AYJURLQh",
        "outputId": "dfabaacb-8906-48a4-d030-6ec93486ed14"
      },
      "source": [
        "N = np.arange(start-8,307,1)\n",
        "x = torch.tensor([12,14,16,18,20,30,40,50,80,100,150,200,250,306])\n",
        "plt.plot(x,exact_x100_m25/x, label = 'exact')\n",
        "plt.plot(N,E11_x100_m25/N, label = '11 terms')\n",
        "N = np.arange(start-6,307,1)\n",
        "plt.plot(N,E9_x100_m25/N, label = '9 terms')\n",
        "plt.legend()"
      ],
      "execution_count": 84,
      "outputs": [
        {
          "output_type": "execute_result",
          "data": {
            "text/plain": [
              "<matplotlib.legend.Legend at 0x7f9ae6646b20>"
            ]
          },
          "metadata": {},
          "execution_count": 84
        },
        {
          "output_type": "display_data",
          "data": {
            "text/plain": [
              "<Figure size 432x288 with 1 Axes>"
            ],
            "image/png": "[encoded data removed]"
          },
          "metadata": {
            "needs_background": "light"
          }
        }
      ]
    },
    {
      "cell_type": "markdown",
      "source": [
        "#Res"
      ],
      "metadata": {
        "id": "R8REoN021mc6"
      }
    },
    {
      "cell_type": "code",
      "metadata": {
        "id": "Aq4U-YccldPc",
        "colab": {
          "base_uri": "https://localhost:8080/",
          "height": 729
        },
        "outputId": "f0c7f4f6-2064-4c5f-c8d6-2f67c53fd191"
      },
      "source": [
        "fig,ax = plt.subplots(2,3,figsize = (20,10))\n",
        "size = 18\n",
        "\n",
        "ax[0,0].plot(x,exact_x1_m0/x, label = 'MPS')\n",
        "N = np.arange(18-6,307,1)\n",
        "ax[0,0].plot(N,E9_x1_m0/N, label = 'AFW (9-term)')\n",
        "N = np.arange(18-8,307,1)\n",
        "ax[0,0].plot(N,E11_x1_m0/N, label = 'AFW (11-term)')\n",
        "# t = torch.arange(8,308)\n",
        "# ax[0,0].plot(t,mari9_x1_m0_nq307, label = 'AD (6-term)')\n",
        "# t = torch.arange(10,307)\n",
        "# ax[0,0].plot(t,mari11_x1_m0_nq306, label = 'AD (11-term)')\n",
        "ax[0,0].legend(fontsize=size)\n",
        "\n",
        "ax[0,0].set_title('x = 1, $\\mu$ = 0', fontsize=size)\n",
        "\n",
        "N = np.arange(18-6,307,1)\n",
        "ax[1,0].plot(x,exact_x1_m01/x, label = 'MPS')\n",
        "ax[1,0].plot(N,E9_x1_m01/N, label = 'AFW (9-term)')\n",
        "N = np.arange(18-8,307,1)\n",
        "ax[1,0].plot(N,E11_x1_m01/N, label = 'AFW (11-term)')\n",
        "# t = torch.arange(8,307)\n",
        "# ax[1,0].plot(t,mari9_x1_m01_nq306, label = 'AD (6-term)')\n",
        "# t = torch.arange(10,307)\n",
        "# ax[1,0].plot(t,mari11_x1_m01_nq306, label = 'AD (11-term)')\n",
        "ax[1,0].legend(fontsize=size)\n",
        "ax[1,0].set_title('x = 1, $\\mu$ = 0.1', fontsize=size)\n",
        "\n",
        "t = torch.arange(8,307)\n",
        "ax[0,1].plot(x,exact_x10_m0/x, label = 'MPS')\n",
        "N = np.arange(74,307,1)\n",
        "ax[0,1].plot(N,E9_x10_m0/N, label = 'AFW (9-term)')\n",
        "N = np.arange(80-8,307,1)\n",
        "ax[0,1].plot(N,E11_x10_m0/N,label = 'AFW (11-term)')\n",
        "# ax[0,1].plot(t, mari9_x10_m0_nq306, label = 'AD (6-term)' )\n",
        "# t = torch.arange(10,307)\n",
        "# ax[0,1].plot(t, mari11_x10_m0_nq306,label = 'AD (11-term)' )\n",
        "ax[0,1].set_title('x=10, $\\mu$ = 0',fontsize=size)\n",
        "ax[0,1].legend(fontsize=size)\n",
        "\n",
        "t = torch.arange(8,307)\n",
        "ax[1,1].plot(x,exact_x10_m25/x, label = 'MPS')\n",
        "N = np.arange(74,307,1)\n",
        "ax[1,1].plot(N,E9_x10_m25/N, label = 'AFW (9-term)')\n",
        "N = np.arange(80-8,307,1)\n",
        "ax[1,1].plot(N,E11_x10_m25/N,label = 'AFW (11-term)')\n",
        "# ax[1,1].plot(t, mari9_x10_m25_nq306, label = 'AD (6-term)' )\n",
        "# t = torch.arange(10,307)\n",
        "# ax[1,1].plot(t, mari11_x10_m25_nq306, label = 'AD (11-term)' )\n",
        "ax[1,1].set_title('x=10, $\\mu$ = 2.5', fontsize=size)\n",
        "ax[1,1].legend(fontsize=size)\n",
        "\n",
        "\n",
        "ax[0,2].plot(x,exact_x100_m0/x, label = 'MPS')\n",
        "#N = np.arange(100-6,1000,1)\n",
        "N = torch.arange(100-6,307,1)\n",
        "ax[0,2].plot(N,E9_x100_m0[:307-100+6]/N,label = 'AFW (9-term)')\n",
        "#N = np.arange(100-8,1000,1)\n",
        "N = np.arange(100-8,307,1)\n",
        "ax[0,2].plot(N,E11_x100_m0[:307-100+8]/N,label = 'AFW (11-term)')\n",
        "# t = torch.arange(8,307)\n",
        "# #t = torch.arange(8,1001)\n",
        "# ax[0,2].plot(t, mari9_x100_m0_nq1000[:307-8], label = 'AD (6-term)' )\n",
        "# # t = torch.arange(10,1001)\n",
        "# t = torch.arange(10,307)\n",
        "# ax[0,2].plot(t, mari11_x100_m0_nq1000[:307-10],label = 'AD (11-term)' )\n",
        "ax[0,2].set_title('x=100, $\\mu$ = 0', fontsize=size)\n",
        "ax[0,2].legend(fontsize=size, loc = 'upper left')\n",
        "\n",
        "\n",
        "ax[1,2].plot(x,exact_x100_m25/x, label = 'MPS')\n",
        "#N = np.arange(100-6,1000,1)\n",
        "N = torch.arange(100-6,307,1)\n",
        "ax[1,2].plot(N,E9_x100_m25[:307-100+6]/N,label = 'AFW (9-term)')\n",
        "#N = np.arange(100-8,1000,1)\n",
        "N = np.arange(100-8,307,1)\n",
        "ax[1,2].plot(N,E11_x100_m25[:307-100+8]/N,label = 'AFW (11-term)')\n",
        "# t = torch.arange(8,307)\n",
        "# #t = torch.arange(8,1001)\n",
        "# ax[1,2].plot(t, mari9_x100_m25_nq1000[:307-8], label = 'AD(6-term)' )\n",
        "# # t = torch.arange(10,1001)\n",
        "# t = torch.arange(10,307)\n",
        "# ax[1,2].plot(t, mari11_x100_m25_nq1000[:307-10], label = 'AD (11-term)' )\n",
        "ax[1,2].set_title('x=100, $\\mu$ = 2.5', fontsize=size)\n",
        "ax[1,2].legend(fontsize=size, loc = 'upper left' )\n",
        "for i in range(2):\n",
        "  for j in range(3):\n",
        "    ax[i,j].set_xlabel('Number of sites (N)',  fontsize=size)\n",
        "    ax[i,j].set_ylabel('E/N',  fontsize=size)\n",
        "    ax[i,j].tick_params(labelsize = size)\n",
        "fig.tight_layout()\n",
        "# fig.savefig('gr.pdf', dpi=500)\n",
        "# fig.savefig('gr.png', dpi=500)\n"
      ],
      "execution_count": 86,
      "outputs": [
        {
          "output_type": "display_data",
          "data": {
            "text/plain": [
              "<Figure size 1440x720 with 6 Axes>"
            ],
            "image/png": "[encoded data removed]"
          },
          "metadata": {
            "needs_background": "light"
          }
        }
      ]
    },
    {
      "cell_type": "code",
      "source": [],
      "metadata": {
        "id": "rSoEBY-Busep"
      },
      "execution_count": null,
      "outputs": []
    },
    {
      "cell_type": "code",
      "source": [],
      "metadata": {
        "id": "lwM9KEa3utFw"
      },
      "execution_count": null,
      "outputs": []
    },
    {
      "cell_type": "code",
      "source": [],
      "metadata": {
        "id": "WdnyNFc3fEjv"
      },
      "execution_count": null,
      "outputs": []
    }
  ]
}